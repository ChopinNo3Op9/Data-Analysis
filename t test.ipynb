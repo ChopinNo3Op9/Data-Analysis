{
 "cells": [
  {
   "cell_type": "code",
   "execution_count": 1,
   "metadata": {},
   "outputs": [],
   "source": [
    "import pandas as pd\n",
    "from scipy.stats import ttest_ind\n",
    "import matplotlib.pyplot as plt"
   ]
  },
  {
   "cell_type": "code",
   "execution_count": 2,
   "metadata": {},
   "outputs": [
    {
     "data": {
      "text/html": [
       "<div>\n",
       "<style scoped>\n",
       "    .dataframe tbody tr th:only-of-type {\n",
       "        vertical-align: middle;\n",
       "    }\n",
       "\n",
       "    .dataframe tbody tr th {\n",
       "        vertical-align: top;\n",
       "    }\n",
       "\n",
       "    .dataframe thead th {\n",
       "        text-align: right;\n",
       "    }\n",
       "</style>\n",
       "<table border=\"1\" class=\"dataframe\">\n",
       "  <thead>\n",
       "    <tr style=\"text-align: right;\">\n",
       "      <th></th>\n",
       "      <th>SaleDate</th>\n",
       "      <th>ProductID</th>\n",
       "      <th>QuantitySold</th>\n",
       "      <th>SaleAmount</th>\n",
       "    </tr>\n",
       "  </thead>\n",
       "  <tbody>\n",
       "    <tr>\n",
       "      <th>0</th>\n",
       "      <td>2023-10-03</td>\n",
       "      <td>45</td>\n",
       "      <td>7</td>\n",
       "      <td>645.351342</td>\n",
       "    </tr>\n",
       "    <tr>\n",
       "      <th>1</th>\n",
       "      <td>2023-02-11</td>\n",
       "      <td>48</td>\n",
       "      <td>18</td>\n",
       "      <td>3490.849674</td>\n",
       "    </tr>\n",
       "    <tr>\n",
       "      <th>2</th>\n",
       "      <td>2023-07-28</td>\n",
       "      <td>1</td>\n",
       "      <td>8</td>\n",
       "      <td>606.531562</td>\n",
       "    </tr>\n",
       "    <tr>\n",
       "      <th>3</th>\n",
       "      <td>2023-09-26</td>\n",
       "      <td>4</td>\n",
       "      <td>3</td>\n",
       "      <td>247.557093</td>\n",
       "    </tr>\n",
       "    <tr>\n",
       "      <th>4</th>\n",
       "      <td>2023-06-17</td>\n",
       "      <td>4</td>\n",
       "      <td>17</td>\n",
       "      <td>2533.733015</td>\n",
       "    </tr>\n",
       "    <tr>\n",
       "      <th>...</th>\n",
       "      <td>...</td>\n",
       "      <td>...</td>\n",
       "      <td>...</td>\n",
       "      <td>...</td>\n",
       "    </tr>\n",
       "    <tr>\n",
       "      <th>195</th>\n",
       "      <td>2023-07-29</td>\n",
       "      <td>14</td>\n",
       "      <td>11</td>\n",
       "      <td>439.834600</td>\n",
       "    </tr>\n",
       "    <tr>\n",
       "      <th>196</th>\n",
       "      <td>2023-01-24</td>\n",
       "      <td>8</td>\n",
       "      <td>19</td>\n",
       "      <td>1700.297705</td>\n",
       "    </tr>\n",
       "    <tr>\n",
       "      <th>197</th>\n",
       "      <td>2023-12-03</td>\n",
       "      <td>25</td>\n",
       "      <td>4</td>\n",
       "      <td>273.591969</td>\n",
       "    </tr>\n",
       "    <tr>\n",
       "      <th>198</th>\n",
       "      <td>2023-09-23</td>\n",
       "      <td>16</td>\n",
       "      <td>15</td>\n",
       "      <td>1781.457249</td>\n",
       "    </tr>\n",
       "    <tr>\n",
       "      <th>199</th>\n",
       "      <td>2023-08-17</td>\n",
       "      <td>42</td>\n",
       "      <td>19</td>\n",
       "      <td>3564.614311</td>\n",
       "    </tr>\n",
       "  </tbody>\n",
       "</table>\n",
       "<p>200 rows × 4 columns</p>\n",
       "</div>"
      ],
      "text/plain": [
       "      SaleDate  ProductID  QuantitySold   SaleAmount\n",
       "0   2023-10-03         45             7   645.351342\n",
       "1   2023-02-11         48            18  3490.849674\n",
       "2   2023-07-28          1             8   606.531562\n",
       "3   2023-09-26          4             3   247.557093\n",
       "4   2023-06-17          4            17  2533.733015\n",
       "..         ...        ...           ...          ...\n",
       "195 2023-07-29         14            11   439.834600\n",
       "196 2023-01-24          8            19  1700.297705\n",
       "197 2023-12-03         25             4   273.591969\n",
       "198 2023-09-23         16            15  1781.457249\n",
       "199 2023-08-17         42            19  3564.614311\n",
       "\n",
       "[200 rows x 4 columns]"
      ]
     },
     "execution_count": 2,
     "metadata": {},
     "output_type": "execute_result"
    }
   ],
   "source": [
    "df = pd.read_csv('sales_data_example.csv')\n",
    "df['SaleDate'] = pd.to_datetime(df['SaleDate'])\n",
    "df"
   ]
  },
  {
   "cell_type": "code",
   "execution_count": 3,
   "metadata": {},
   "outputs": [
    {
     "name": "stdout",
     "output_type": "stream",
     "text": [
      "Top 5 Best-Selling Products:\n",
      " ProductID\n",
      "12    90\n",
      "14    80\n",
      "1     76\n",
      "4     67\n",
      "17    62\n",
      "Name: QuantitySold, dtype: int64\n"
     ]
    }
   ],
   "source": [
    "# Identify top 5 best-selling products\n",
    "top_products = df.groupby('ProductID')['QuantitySold'].sum().sort_values(ascending=False).head(5)\n",
    "print(\"Top 5 Best-Selling Products:\\n\", top_products)"
   ]
  },
  {
   "cell_type": "code",
   "execution_count": 4,
   "metadata": {},
   "outputs": [
    {
     "data": {
      "text/html": [
       "<div>\n",
       "<style scoped>\n",
       "    .dataframe tbody tr th:only-of-type {\n",
       "        vertical-align: middle;\n",
       "    }\n",
       "\n",
       "    .dataframe tbody tr th {\n",
       "        vertical-align: top;\n",
       "    }\n",
       "\n",
       "    .dataframe thead th {\n",
       "        text-align: right;\n",
       "    }\n",
       "</style>\n",
       "<table border=\"1\" class=\"dataframe\">\n",
       "  <thead>\n",
       "    <tr style=\"text-align: right;\">\n",
       "      <th></th>\n",
       "      <th>SaleDate</th>\n",
       "      <th>ProductID</th>\n",
       "      <th>QuantitySold</th>\n",
       "      <th>SaleAmount</th>\n",
       "      <th>DayType</th>\n",
       "    </tr>\n",
       "  </thead>\n",
       "  <tbody>\n",
       "    <tr>\n",
       "      <th>0</th>\n",
       "      <td>2023-10-03</td>\n",
       "      <td>45</td>\n",
       "      <td>7</td>\n",
       "      <td>645.351342</td>\n",
       "      <td>Weekday</td>\n",
       "    </tr>\n",
       "    <tr>\n",
       "      <th>1</th>\n",
       "      <td>2023-02-11</td>\n",
       "      <td>48</td>\n",
       "      <td>18</td>\n",
       "      <td>3490.849674</td>\n",
       "      <td>Weekend</td>\n",
       "    </tr>\n",
       "    <tr>\n",
       "      <th>2</th>\n",
       "      <td>2023-07-28</td>\n",
       "      <td>1</td>\n",
       "      <td>8</td>\n",
       "      <td>606.531562</td>\n",
       "      <td>Weekday</td>\n",
       "    </tr>\n",
       "    <tr>\n",
       "      <th>3</th>\n",
       "      <td>2023-09-26</td>\n",
       "      <td>4</td>\n",
       "      <td>3</td>\n",
       "      <td>247.557093</td>\n",
       "      <td>Weekday</td>\n",
       "    </tr>\n",
       "    <tr>\n",
       "      <th>4</th>\n",
       "      <td>2023-06-17</td>\n",
       "      <td>4</td>\n",
       "      <td>17</td>\n",
       "      <td>2533.733015</td>\n",
       "      <td>Weekend</td>\n",
       "    </tr>\n",
       "    <tr>\n",
       "      <th>...</th>\n",
       "      <td>...</td>\n",
       "      <td>...</td>\n",
       "      <td>...</td>\n",
       "      <td>...</td>\n",
       "      <td>...</td>\n",
       "    </tr>\n",
       "    <tr>\n",
       "      <th>195</th>\n",
       "      <td>2023-07-29</td>\n",
       "      <td>14</td>\n",
       "      <td>11</td>\n",
       "      <td>439.834600</td>\n",
       "      <td>Weekend</td>\n",
       "    </tr>\n",
       "    <tr>\n",
       "      <th>196</th>\n",
       "      <td>2023-01-24</td>\n",
       "      <td>8</td>\n",
       "      <td>19</td>\n",
       "      <td>1700.297705</td>\n",
       "      <td>Weekday</td>\n",
       "    </tr>\n",
       "    <tr>\n",
       "      <th>197</th>\n",
       "      <td>2023-12-03</td>\n",
       "      <td>25</td>\n",
       "      <td>4</td>\n",
       "      <td>273.591969</td>\n",
       "      <td>Weekend</td>\n",
       "    </tr>\n",
       "    <tr>\n",
       "      <th>198</th>\n",
       "      <td>2023-09-23</td>\n",
       "      <td>16</td>\n",
       "      <td>15</td>\n",
       "      <td>1781.457249</td>\n",
       "      <td>Weekend</td>\n",
       "    </tr>\n",
       "    <tr>\n",
       "      <th>199</th>\n",
       "      <td>2023-08-17</td>\n",
       "      <td>42</td>\n",
       "      <td>19</td>\n",
       "      <td>3564.614311</td>\n",
       "      <td>Weekday</td>\n",
       "    </tr>\n",
       "  </tbody>\n",
       "</table>\n",
       "<p>200 rows × 5 columns</p>\n",
       "</div>"
      ],
      "text/plain": [
       "      SaleDate  ProductID  QuantitySold   SaleAmount  DayType\n",
       "0   2023-10-03         45             7   645.351342  Weekday\n",
       "1   2023-02-11         48            18  3490.849674  Weekend\n",
       "2   2023-07-28          1             8   606.531562  Weekday\n",
       "3   2023-09-26          4             3   247.557093  Weekday\n",
       "4   2023-06-17          4            17  2533.733015  Weekend\n",
       "..         ...        ...           ...          ...      ...\n",
       "195 2023-07-29         14            11   439.834600  Weekend\n",
       "196 2023-01-24          8            19  1700.297705  Weekday\n",
       "197 2023-12-03         25             4   273.591969  Weekend\n",
       "198 2023-09-23         16            15  1781.457249  Weekend\n",
       "199 2023-08-17         42            19  3564.614311  Weekday\n",
       "\n",
       "[200 rows x 5 columns]"
      ]
     },
     "execution_count": 4,
     "metadata": {},
     "output_type": "execute_result"
    }
   ],
   "source": [
    "# Classifying data into weekdays and weekends\n",
    "df['DayType'] = df['SaleDate'].dt.dayofweek.apply(lambda x: 'Weekend' if x >= 5 else 'Weekday')\n",
    "df"
   ]
  },
  {
   "cell_type": "code",
   "execution_count": 5,
   "metadata": {},
   "outputs": [
    {
     "name": "stdout",
     "output_type": "stream",
     "text": [
      "\n",
      "Average Sales - Weekdays vs. Weekends:\n",
      " DayType\n",
      "Weekday     961.055543\n",
      "Weekend    1024.610594\n",
      "Name: SaleAmount, dtype: float64\n"
     ]
    }
   ],
   "source": [
    "# Average sales on weekdays vs weekends\n",
    "average_sales = df.groupby('DayType')['SaleAmount'].mean()\n",
    "print(\"\\nAverage Sales - Weekdays vs. Weekends:\\n\", average_sales)"
   ]
  },
  {
   "cell_type": "code",
   "execution_count": 6,
   "metadata": {},
   "outputs": [
    {
     "name": "stdout",
     "output_type": "stream",
     "text": [
      "\n",
      "T-test result: T-statistic = 0.4464956975849217 , P-value = 0.6563402995591798\n"
     ]
    }
   ],
   "source": [
    "# T-test to compare sales amounts\n",
    "weekend_sales = df[df['DayType'] == 'Weekend']['SaleAmount']\n",
    "weekday_sales = df[df['DayType'] == 'Weekday']['SaleAmount']\n",
    "t_stat, p_val = ttest_ind(weekend_sales, weekday_sales, equal_var=False)\n",
    "print(\"\\nT-test result: T-statistic =\", t_stat, \", P-value =\", p_val)"
   ]
  },
  {
   "cell_type": "markdown",
   "metadata": {},
   "source": [
    "If the P-value is low, it would suggest that the difference in sales between these two types of days is statistically significant."
   ]
  },
  {
   "cell_type": "code",
   "execution_count": 7,
   "metadata": {},
   "outputs": [
    {
     "data": {
      "image/png": "[encoded data removed]",
      "text/plain": [
       "<Figure size 640x480 with 1 Axes>"
      ]
     },
     "metadata": {},
     "output_type": "display_data"
    }
   ],
   "source": [
    "# Plotting top 5 products\n",
    "top_products.plot(kind='bar')\n",
    "plt.title('Top 5 Best-Selling Products')\n",
    "plt.xlabel('Product ID')\n",
    "plt.ylabel('Total Quantity Sold')\n",
    "plt.show()"
   ]
  },
  {
   "cell_type": "code",
   "execution_count": 8,
   "metadata": {},
   "outputs": [
    {
     "data": {
      "image/png": "[encoded data removed]",
      "text/plain": [
       "<Figure size 640x480 with 1 Axes>"
      ]
     },
     "metadata": {},
     "output_type": "display_data"
    }
   ],
   "source": [
    "# Plotting average sales\n",
    "average_sales.plot(kind='bar')\n",
    "plt.title('Average Sales: Weekdays vs. Weekends')\n",
    "plt.xlabel('Day Type')\n",
    "plt.ylabel('Average Sale Amount')\n",
    "plt.show()"
   ]
  }
 ],
 "metadata": {
  "kernelspec": {
   "display_name": "Python 3",
   "language": "python",
   "name": "python3"
  },
  "language_info": {
   "codemirror_mode": {
    "name": "ipython",
    "version": 3
   },
   "file_extension": ".py",
   "mimetype": "text/x-python",
   "name": "python",
   "nbconvert_exporter": "python",
   "pygments_lexer": "ipython3",
   "version": "3.10.11"
  }
 },
 "nbformat": 4,
 "nbformat_minor": 2
}
