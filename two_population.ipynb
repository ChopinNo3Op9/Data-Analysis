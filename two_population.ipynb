{
 "cells": [
  {
   "cell_type": "code",
   "execution_count": 15,
   "metadata": {},
   "outputs": [],
   "source": [
    "import numpy as np\n",
    "import scipy.stats as stats\n",
    "import statsmodels.api as sm"
   ]
  },
  {
   "cell_type": "markdown",
   "metadata": {},
   "source": [
    "Two Population Comparison: Proportions - Confidence Interval "
   ]
  },
  {
   "cell_type": "code",
   "execution_count": 16,
   "metadata": {},
   "outputs": [
    {
     "name": "stdout",
     "output_type": "stream",
     "text": [
      "(0.25651567608909426, 0.4434843239109057)\n",
      "(0.2883810109781451, 0.4616189890218549)\n",
      "Population 1 proportion: 0.35\n",
      "Population 2 proportion: 0.375\n",
      "Confidence interval for Population 1: (0.25651567608909426, 0.4434843239109057)\n",
      "Confidence interval for Population 2: (0.2883810109781451, 0.4616189890218549)\n",
      "The confidence intervals overlap, suggesting no significant difference.\n"
     ]
    }
   ],
   "source": [
    "# Sample data for Population 1\n",
    "n1 = 100  # Sample size for Population 1\n",
    "x1 = 35   # Number of successes (e.g., number of people who bought a product) for Population 1\n",
    "\n",
    "# Sample data for Population 2\n",
    "n2 = 120  # Sample size for Population 2\n",
    "x2 = 45   # Number of successes (e.g., number of people who bought a product) for Population 2\n",
    "\n",
    "# Calculate proportions for each population\n",
    "p1 = x1 / n1\n",
    "p2 = x2 / n2\n",
    "\n",
    "# Calculate confidence intervals\n",
    "conf_int1 = sm.stats.proportion_confint(x1, n1, alpha=0.05, method='normal')\n",
    "conf_int2 = sm.stats.proportion_confint(x2, n2, alpha=0.05, method='normal')\n",
    "\n",
    "print(conf_int1)\n",
    "print(conf_int2)\n",
    "\n",
    "# Check if confidence intervals overlap\n",
    "overlap = conf_int1[1] >= conf_int2[0] and conf_int2[1] >= conf_int1[0]\n",
    "\n",
    "# Print results\n",
    "print(\"Population 1 proportion:\", p1)\n",
    "print(\"Population 2 proportion:\", p2)\n",
    "print(\"Confidence interval for Population 1:\", conf_int1)\n",
    "print(\"Confidence interval for Population 2:\", conf_int2)\n",
    "\n",
    "if overlap:\n",
    "    print(\"The confidence intervals overlap, suggesting no significant difference.\")\n",
    "else:\n",
    "    print(\"The confidence intervals do not overlap, suggesting a significant difference.\")\n"
   ]
  },
  {
   "cell_type": "markdown",
   "metadata": {},
   "source": [
    "Two Population Comparison: Proportions - Hypothesis Test "
   ]
  },
  {
   "cell_type": "code",
   "execution_count": 17,
   "metadata": {},
   "outputs": [
    {
     "name": "stdout",
     "output_type": "stream",
     "text": [
      "Z-statistic: -0.38382473678936957\n",
      "P-value: 0.701108352470263\n",
      "Fail to reject the null hypothesis: There is no significant difference in proportions.\n"
     ]
    }
   ],
   "source": [
    "# Sample data for Population 1\n",
    "n1 = 100  # Sample size for Population 1\n",
    "x1 = 35   # Number of successes (e.g., number of people who bought a product) for Population 1\n",
    "\n",
    "# Sample data for Population 2\n",
    "n2 = 120  # Sample size for Population 2\n",
    "x2 = 45   # Number of successes (e.g., number of people who bought a product) for Population 2\n",
    "\n",
    "# Perform a hypothesis test for proportions\n",
    "# There is a significant difference between the proportions in either direction (e.g., is p1 different from p2 or is p2 different from p1). \n",
    "# It is used when you want to determine if the proportions are not equal, but you do not specify a particular direction (greater or less than).\n",
    "z_stat, p_value = sm.stats.proportions_ztest([x1, x2], [n1, n2], alternative='two-sided')\n",
    "\n",
    "# Print results\n",
    "print(\"Z-statistic:\", z_stat)\n",
    "print(\"P-value:\", p_value)\n",
    "\n",
    "alpha = 0.05\n",
    "\n",
    "if p_value < alpha:\n",
    "    print(\"Reject the null hypothesis: There is a significant difference in proportions.\")\n",
    "else:\n",
    "    print(\"Fail to reject the null hypothesis: There is no significant difference in proportions.\")"
   ]
  },
  {
   "cell_type": "markdown",
   "metadata": {},
   "source": [
    "Two Population Comparison: Means - Confidence Interval"
   ]
  },
  {
   "cell_type": "code",
   "execution_count": 18,
   "metadata": {},
   "outputs": [
    {
     "name": "stdout",
     "output_type": "stream",
     "text": [
      "Mean of Population 1: 88.4\n",
      "Confidence interval for Population 1: (85.04520861507335, 91.75479138492666)\n",
      "Mean of Population 2: 80.8\n",
      "Confidence interval for Population 2: (77.35452223484866, 84.24547776515134)\n",
      "The confidence intervals do not overlap, suggesting a significant difference.\n"
     ]
    }
   ],
   "source": [
    "# Sample data for Population 1\n",
    "data1 = np.array([85, 90, 88, 92, 87])\n",
    "\n",
    "# Sample data for Population 2\n",
    "data2 = np.array([78, 82, 80, 85, 79])\n",
    "\n",
    "# Calculate means and standard errors for both populations\n",
    "mean1 = np.mean(data1)\n",
    "std_err1 = stats.sem(data1)\n",
    "conf_int1 = stats.t.interval(0.95, len(data1) - 1, loc=mean1, scale=std_err1)\n",
    "\n",
    "mean2 = np.mean(data2)\n",
    "std_err2 = stats.sem(data2)\n",
    "conf_int2 = stats.t.interval(0.95, len(data2) - 1, loc=mean2, scale=std_err2)\n",
    "\n",
    "# Check if confidence intervals overlap\n",
    "overlap = conf_int1[1] >= conf_int2[0] and conf_int2[1] >= conf_int1[0]\n",
    "\n",
    "# Print results\n",
    "print(\"Mean of Population 1:\", mean1)\n",
    "print(\"Confidence interval for Population 1:\", conf_int1)\n",
    "print(\"Mean of Population 2:\", mean2)\n",
    "print(\"Confidence interval for Population 2:\", conf_int2)\n",
    "\n",
    "if overlap:\n",
    "    print(\"The confidence intervals overlap, suggesting no significant difference.\")\n",
    "else:\n",
    "    print(\"The confidence intervals do not overlap, suggesting a significant difference.\")"
   ]
  },
  {
   "cell_type": "markdown",
   "metadata": {},
   "source": [
    "Two Population Comparison: Means - Hypothesis Test"
   ]
  },
  {
   "cell_type": "code",
   "execution_count": 19,
   "metadata": {},
   "outputs": [
    {
     "name": "stdout",
     "output_type": "stream",
     "text": [
      "T-statistic: 4.387862045841161\n",
      "P-value: 0.0023241881225952348\n",
      "Reject the null hypothesis: There is a significant difference in means.\n"
     ]
    }
   ],
   "source": [
    "import numpy as np\n",
    "import scipy.stats as stats\n",
    "\n",
    "# Sample data for Population 1\n",
    "data1 = np.array([85, 90, 88, 92, 87])\n",
    "\n",
    "# Sample data for Population 2\n",
    "data2 = np.array([78, 82, 80, 85, 79])\n",
    "\n",
    "# Perform a two-sample t-test for means\n",
    "t_stat, p_value = stats.ttest_ind(data1, data2)\n",
    "\n",
    "# Print results\n",
    "print(\"T-statistic:\", t_stat)\n",
    "print(\"P-value:\", p_value)\n",
    "\n",
    "alpha = 0.05\n",
    "\n",
    "if p_value < alpha:\n",
    "    print(\"Reject the null hypothesis: There is a significant difference in means.\")\n",
    "else:\n",
    "    print(\"Fail to reject the null hypothesis: There is no significant difference in means.\")\n"
   ]
  },
  {
   "cell_type": "markdown",
   "metadata": {},
   "source": []
  }
 ],
 "metadata": {
  "kernelspec": {
   "display_name": "Python 3",
   "language": "python",
   "name": "python3"
  },
  "language_info": {
   "codemirror_mode": {
    "name": "ipython",
    "version": 3
   },
   "file_extension": ".py",
   "mimetype": "text/x-python",
   "name": "python",
   "nbconvert_exporter": "python",
   "pygments_lexer": "ipython3",
   "version": "3.10.11"
  }
 },
 "nbformat": 4,
 "nbformat_minor": 2
}
