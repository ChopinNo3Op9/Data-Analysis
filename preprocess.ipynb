{
 "cells": [
  {
   "cell_type": "code",
   "execution_count": 1,
   "metadata": {},
   "outputs": [],
   "source": [
    "import pandas as pd\n",
    "import numpy as np\n",
    "from scipy import stats\n",
    "import matplotlib.pyplot as plt"
   ]
  },
  {
   "cell_type": "code",
   "execution_count": 2,
   "metadata": {},
   "outputs": [],
   "source": [
    "np.random.seed(0)\n",
    "data = {\n",
    "    'A': np.random.normal(0, 1, 1000),  # Normal distribution\n",
    "    'B': np.random.exponential(1, 1000),  # Exponential distribution\n",
    "    'C': np.random.uniform(0, 100, 1000),  # Uniform distribution\n",
    "    'type': np.random.choice(['X', 'Y', 'Z'], size=1000),  # Categorical data\n",
    "    'class': np.random.choice(['Alpha', 'Beta', 'Gamma'], size=1000),\n",
    "    'D': np.random.randint(1, 100, size=1000)  # Integer range\n",
    "}\n",
    "\n",
    "df = pd.DataFrame(data)\n",
    "\n",
    "# Create a new row with the desired values, including NaN values\n",
    "new_data = {\n",
    "    'A': [-100, -200, np.nan, np.nan],\n",
    "    'B': np.random.exponential(1, 4),\n",
    "    'C': np.random.uniform(0, 100, 4),\n",
    "    'type': np.random.choice(['X', 'Y', 'Z'], size=4),\n",
    "    'class': np.random.choice(['Alpha', 'Beta', 'Gamma'], size=4),\n",
    "    'D': np.random.randint(1, 100, size=4)\n",
    "}\n",
    "\n",
    "new_df = pd.DataFrame(new_data)\n",
    "\n",
    "# Concatenate the new DataFrame to the original DataFrame\n",
    "df = pd.concat([df, new_df], ignore_index=True)"
   ]
  },
  {
   "cell_type": "code",
   "execution_count": 3,
   "metadata": {},
   "outputs": [
    {
     "data": {
      "text/plain": [
       "A        2\n",
       "B        0\n",
       "C        0\n",
       "type     0\n",
       "class    0\n",
       "D        0\n",
       "dtype: int64"
      ]
     },
     "execution_count": 3,
     "metadata": {},
     "output_type": "execute_result"
    }
   ],
   "source": [
    "# Check for missing values\n",
    "missing_values = df.isnull().sum()\n",
    "missing_values"
   ]
  },
  {
   "cell_type": "code",
   "execution_count": 4,
   "metadata": {},
   "outputs": [],
   "source": [
    "# Remove rows with missing values\n",
    "df = df.dropna()"
   ]
  },
  {
   "cell_type": "code",
   "execution_count": 5,
   "metadata": {},
   "outputs": [
    {
     "data": {
      "text/html": [
       "<div>\n",
       "<style scoped>\n",
       "    .dataframe tbody tr th:only-of-type {\n",
       "        vertical-align: middle;\n",
       "    }\n",
       "\n",
       "    .dataframe tbody tr th {\n",
       "        vertical-align: top;\n",
       "    }\n",
       "\n",
       "    .dataframe thead th {\n",
       "        text-align: right;\n",
       "    }\n",
       "</style>\n",
       "<table border=\"1\" class=\"dataframe\">\n",
       "  <thead>\n",
       "    <tr style=\"text-align: right;\">\n",
       "      <th></th>\n",
       "      <th>A</th>\n",
       "      <th>B</th>\n",
       "      <th>C</th>\n",
       "      <th>type</th>\n",
       "      <th>class</th>\n",
       "      <th>D</th>\n",
       "    </tr>\n",
       "  </thead>\n",
       "  <tbody>\n",
       "    <tr>\n",
       "      <th>0</th>\n",
       "      <td>1.764052</td>\n",
       "      <td>1.725432</td>\n",
       "      <td>98.097940</td>\n",
       "      <td>X</td>\n",
       "      <td>Gamma</td>\n",
       "      <td>72</td>\n",
       "    </tr>\n",
       "    <tr>\n",
       "      <th>1</th>\n",
       "      <td>0.400157</td>\n",
       "      <td>1.205736</td>\n",
       "      <td>24.584930</td>\n",
       "      <td>X</td>\n",
       "      <td>Beta</td>\n",
       "      <td>58</td>\n",
       "    </tr>\n",
       "    <tr>\n",
       "      <th>2</th>\n",
       "      <td>0.978738</td>\n",
       "      <td>2.146245</td>\n",
       "      <td>71.050533</td>\n",
       "      <td>Z</td>\n",
       "      <td>Gamma</td>\n",
       "      <td>76</td>\n",
       "    </tr>\n",
       "    <tr>\n",
       "      <th>3</th>\n",
       "      <td>2.240893</td>\n",
       "      <td>3.398454</td>\n",
       "      <td>50.511344</td>\n",
       "      <td>Y</td>\n",
       "      <td>Gamma</td>\n",
       "      <td>58</td>\n",
       "    </tr>\n",
       "    <tr>\n",
       "      <th>4</th>\n",
       "      <td>1.867558</td>\n",
       "      <td>1.490534</td>\n",
       "      <td>47.877264</td>\n",
       "      <td>Z</td>\n",
       "      <td>Beta</td>\n",
       "      <td>11</td>\n",
       "    </tr>\n",
       "    <tr>\n",
       "      <th>...</th>\n",
       "      <td>...</td>\n",
       "      <td>...</td>\n",
       "      <td>...</td>\n",
       "      <td>...</td>\n",
       "      <td>...</td>\n",
       "      <td>...</td>\n",
       "    </tr>\n",
       "    <tr>\n",
       "      <th>997</th>\n",
       "      <td>0.094192</td>\n",
       "      <td>1.789692</td>\n",
       "      <td>16.035315</td>\n",
       "      <td>Y</td>\n",
       "      <td>Beta</td>\n",
       "      <td>10</td>\n",
       "    </tr>\n",
       "    <tr>\n",
       "      <th>998</th>\n",
       "      <td>-1.147611</td>\n",
       "      <td>0.831483</td>\n",
       "      <td>96.410094</td>\n",
       "      <td>Z</td>\n",
       "      <td>Alpha</td>\n",
       "      <td>25</td>\n",
       "    </tr>\n",
       "    <tr>\n",
       "      <th>999</th>\n",
       "      <td>-0.358114</td>\n",
       "      <td>0.095376</td>\n",
       "      <td>45.125196</td>\n",
       "      <td>Y</td>\n",
       "      <td>Beta</td>\n",
       "      <td>73</td>\n",
       "    </tr>\n",
       "    <tr>\n",
       "      <th>1000</th>\n",
       "      <td>-100.000000</td>\n",
       "      <td>1.329770</td>\n",
       "      <td>61.668505</td>\n",
       "      <td>Y</td>\n",
       "      <td>Alpha</td>\n",
       "      <td>80</td>\n",
       "    </tr>\n",
       "    <tr>\n",
       "      <th>1001</th>\n",
       "      <td>-200.000000</td>\n",
       "      <td>0.113921</td>\n",
       "      <td>82.885771</td>\n",
       "      <td>Y</td>\n",
       "      <td>Gamma</td>\n",
       "      <td>8</td>\n",
       "    </tr>\n",
       "  </tbody>\n",
       "</table>\n",
       "<p>1002 rows × 6 columns</p>\n",
       "</div>"
      ],
      "text/plain": [
       "               A         B          C type  class   D\n",
       "0       1.764052  1.725432  98.097940    X  Gamma  72\n",
       "1       0.400157  1.205736  24.584930    X   Beta  58\n",
       "2       0.978738  2.146245  71.050533    Z  Gamma  76\n",
       "3       2.240893  3.398454  50.511344    Y  Gamma  58\n",
       "4       1.867558  1.490534  47.877264    Z   Beta  11\n",
       "...          ...       ...        ...  ...    ...  ..\n",
       "997     0.094192  1.789692  16.035315    Y   Beta  10\n",
       "998    -1.147611  0.831483  96.410094    Z  Alpha  25\n",
       "999    -0.358114  0.095376  45.125196    Y   Beta  73\n",
       "1000 -100.000000  1.329770  61.668505    Y  Alpha  80\n",
       "1001 -200.000000  0.113921  82.885771    Y  Gamma   8\n",
       "\n",
       "[1002 rows x 6 columns]"
      ]
     },
     "execution_count": 5,
     "metadata": {},
     "output_type": "execute_result"
    }
   ],
   "source": [
    "df"
   ]
  },
  {
   "cell_type": "code",
   "execution_count": 6,
   "metadata": {},
   "outputs": [
    {
     "data": {
      "text/plain": [
       "<bound method NDFrame.describe of                A         B          C type  class   D\n",
       "0       1.764052  1.725432  98.097940    X  Gamma  72\n",
       "1       0.400157  1.205736  24.584930    X   Beta  58\n",
       "2       0.978738  2.146245  71.050533    Z  Gamma  76\n",
       "3       2.240893  3.398454  50.511344    Y  Gamma  58\n",
       "4       1.867558  1.490534  47.877264    Z   Beta  11\n",
       "...          ...       ...        ...  ...    ...  ..\n",
       "997     0.094192  1.789692  16.035315    Y   Beta  10\n",
       "998    -1.147611  0.831483  96.410094    Z  Alpha  25\n",
       "999    -0.358114  0.095376  45.125196    Y   Beta  73\n",
       "1000 -100.000000  1.329770  61.668505    Y  Alpha  80\n",
       "1001 -200.000000  0.113921  82.885771    Y  Gamma   8\n",
       "\n",
       "[1002 rows x 6 columns]>"
      ]
     },
     "execution_count": 6,
     "metadata": {},
     "output_type": "execute_result"
    }
   ],
   "source": [
    "df.describe"
   ]
  },
  {
   "cell_type": "code",
   "execution_count": 7,
   "metadata": {},
   "outputs": [
    {
     "name": "stdout",
     "output_type": "stream",
     "text": [
      "<class 'pandas.core.frame.DataFrame'>\n",
      "Index: 1002 entries, 0 to 1001\n",
      "Data columns (total 7 columns):\n",
      " #   Column  Non-Null Count  Dtype  \n",
      "---  ------  --------------  -----  \n",
      " 0   A       1002 non-null   float64\n",
      " 1   B       1002 non-null   float64\n",
      " 2   C       1002 non-null   float64\n",
      " 3   type    1002 non-null   object \n",
      " 4   class   1002 non-null   object \n",
      " 5   D       1002 non-null   int32  \n",
      " 6   Y       1002 non-null   float64\n",
      "dtypes: float64(4), int32(1), object(2)\n",
      "memory usage: 58.7+ KB\n",
      "None\n"
     ]
    }
   ],
   "source": [
    "# Validate data types\n",
    "df['Y'] = pd.to_numeric(df['B'], errors='coerce')\n",
    "\n",
    "# Remove duplicates\n",
    "df = df.drop_duplicates()\n",
    "\n",
    "# Summary of the cleaned data\n",
    "print(df.info())"
   ]
  },
  {
   "cell_type": "code",
   "execution_count": 8,
   "metadata": {},
   "outputs": [
    {
     "data": {
      "text/html": [
       "<div>\n",
       "<style scoped>\n",
       "    .dataframe tbody tr th:only-of-type {\n",
       "        vertical-align: middle;\n",
       "    }\n",
       "\n",
       "    .dataframe tbody tr th {\n",
       "        vertical-align: top;\n",
       "    }\n",
       "\n",
       "    .dataframe thead th {\n",
       "        text-align: right;\n",
       "    }\n",
       "</style>\n",
       "<table border=\"1\" class=\"dataframe\">\n",
       "  <thead>\n",
       "    <tr style=\"text-align: right;\">\n",
       "      <th></th>\n",
       "      <th>A</th>\n",
       "      <th>B</th>\n",
       "      <th>C</th>\n",
       "      <th>type</th>\n",
       "      <th>class</th>\n",
       "      <th>D</th>\n",
       "      <th>Y</th>\n",
       "    </tr>\n",
       "  </thead>\n",
       "  <tbody>\n",
       "    <tr>\n",
       "      <th>1000</th>\n",
       "      <td>-100.0</td>\n",
       "      <td>1.329770</td>\n",
       "      <td>61.668505</td>\n",
       "      <td>Y</td>\n",
       "      <td>Alpha</td>\n",
       "      <td>80</td>\n",
       "      <td>1.329770</td>\n",
       "    </tr>\n",
       "    <tr>\n",
       "      <th>1001</th>\n",
       "      <td>-200.0</td>\n",
       "      <td>0.113921</td>\n",
       "      <td>82.885771</td>\n",
       "      <td>Y</td>\n",
       "      <td>Gamma</td>\n",
       "      <td>8</td>\n",
       "      <td>0.113921</td>\n",
       "    </tr>\n",
       "  </tbody>\n",
       "</table>\n",
       "</div>"
      ],
      "text/plain": [
       "          A         B          C type  class   D         Y\n",
       "1000 -100.0  1.329770  61.668505    Y  Alpha  80  1.329770\n",
       "1001 -200.0  0.113921  82.885771    Y  Gamma   8  0.113921"
      ]
     },
     "execution_count": 8,
     "metadata": {},
     "output_type": "execute_result"
    }
   ],
   "source": [
    "# Find outliers using z-score\n",
    "z_scores = stats.zscore(df['A'])\n",
    "outliers = df[(z_scores > 3) | (z_scores < -3)] # data point is more than 3 standard deviations above the mean.\n",
    "outliers"
   ]
  },
  {
   "cell_type": "code",
   "execution_count": 9,
   "metadata": {},
   "outputs": [
    {
     "data": {
      "text/plain": [
       "(1002, 7)"
      ]
     },
     "execution_count": 9,
     "metadata": {},
     "output_type": "execute_result"
    }
   ],
   "source": [
    "df.shape"
   ]
  },
  {
   "cell_type": "markdown",
   "metadata": {},
   "source": [
    "Z_Score, z = (X - μ) / σ"
   ]
  },
  {
   "cell_type": "code",
   "execution_count": 10,
   "metadata": {},
   "outputs": [
    {
     "data": {
      "text/plain": [
       "(1000, 7)"
      ]
     },
     "execution_count": 10,
     "metadata": {},
     "output_type": "execute_result"
    }
   ],
   "source": [
    "# Remove outliers and create a new DataFrame\n",
    "df_no_outliers = df[(z_scores <= 3) & (z_scores >= -3)]\n",
    "df_no_outliers.shape"
   ]
  },
  {
   "cell_type": "markdown",
   "metadata": {},
   "source": [
    "IQR"
   ]
  },
  {
   "cell_type": "code",
   "execution_count": 11,
   "metadata": {},
   "outputs": [
    {
     "data": {
      "text/plain": [
       "(993, 7)"
      ]
     },
     "execution_count": 11,
     "metadata": {},
     "output_type": "execute_result"
    }
   ],
   "source": [
    "# Calculate the Interquartile Range (IQR) for column 'A'\n",
    "Q1 = df['A'].quantile(0.25)\n",
    "Q3 = df['A'].quantile(0.75)\n",
    "IQR = Q3 - Q1\n",
    "\n",
    "# Define the lower and upper bounds for outliers\n",
    "lower_bound = Q1 - 1.5 * IQR\n",
    "upper_bound = Q3 + 1.5 * IQR\n",
    "\n",
    "# Remove outliers and create a new DataFrame\n",
    "df_no_outliers = df[(df['A'] >= lower_bound) & (df['A'] <= upper_bound)]\n",
    "df_no_outliers.shape"
   ]
  }
 ],
 "metadata": {
  "kernelspec": {
   "display_name": "Python 3",
   "language": "python",
   "name": "python3"
  },
  "language_info": {
   "codemirror_mode": {
    "name": "ipython",
    "version": 3
   },
   "file_extension": ".py",
   "mimetype": "text/x-python",
   "name": "python",
   "nbconvert_exporter": "python",
   "pygments_lexer": "ipython3",
   "version": "3.10.11"
  }
 },
 "nbformat": 4,
 "nbformat_minor": 2
}
