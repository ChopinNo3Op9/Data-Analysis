{
 "cells": [
  {
   "cell_type": "code",
   "execution_count": 1,
   "metadata": {},
   "outputs": [],
   "source": [
    "import pandas as pd\n",
    "import matplotlib.pyplot as plt\n",
    "from scipy.stats import f_oneway"
   ]
  },
  {
   "cell_type": "code",
   "execution_count": 7,
   "metadata": {},
   "outputs": [
    {
     "data": {
      "text/html": [
       "<div>\n",
       "<style scoped>\n",
       "    .dataframe tbody tr th:only-of-type {\n",
       "        vertical-align: middle;\n",
       "    }\n",
       "\n",
       "    .dataframe tbody tr th {\n",
       "        vertical-align: top;\n",
       "    }\n",
       "\n",
       "    .dataframe thead th {\n",
       "        text-align: right;\n",
       "    }\n",
       "</style>\n",
       "<table border=\"1\" class=\"dataframe\">\n",
       "  <thead>\n",
       "    <tr style=\"text-align: right;\">\n",
       "      <th></th>\n",
       "      <th>ProductID</th>\n",
       "      <th>SaleDate</th>\n",
       "      <th>QuantitySold</th>\n",
       "      <th>SaleAmount</th>\n",
       "    </tr>\n",
       "  </thead>\n",
       "  <tbody>\n",
       "    <tr>\n",
       "      <th>0</th>\n",
       "      <td>13</td>\n",
       "      <td>2023-02-14</td>\n",
       "      <td>6</td>\n",
       "      <td>461.670654</td>\n",
       "    </tr>\n",
       "    <tr>\n",
       "      <th>1</th>\n",
       "      <td>16</td>\n",
       "      <td>2023-01-25</td>\n",
       "      <td>24</td>\n",
       "      <td>1273.768063</td>\n",
       "    </tr>\n",
       "    <tr>\n",
       "      <th>2</th>\n",
       "      <td>1</td>\n",
       "      <td>2023-07-08</td>\n",
       "      <td>44</td>\n",
       "      <td>3121.243033</td>\n",
       "    </tr>\n",
       "    <tr>\n",
       "      <th>3</th>\n",
       "      <td>4</td>\n",
       "      <td>2023-05-12</td>\n",
       "      <td>33</td>\n",
       "      <td>2132.923832</td>\n",
       "    </tr>\n",
       "    <tr>\n",
       "      <th>4</th>\n",
       "      <td>4</td>\n",
       "      <td>2023-04-10</td>\n",
       "      <td>12</td>\n",
       "      <td>891.872691</td>\n",
       "    </tr>\n",
       "  </tbody>\n",
       "</table>\n",
       "</div>"
      ],
      "text/plain": [
       "   ProductID    SaleDate  QuantitySold   SaleAmount\n",
       "0         13  2023-02-14             6   461.670654\n",
       "1         16  2023-01-25            24  1273.768063\n",
       "2          1  2023-07-08            44  3121.243033\n",
       "3          4  2023-05-12            33  2132.923832\n",
       "4          4  2023-04-10            12   891.872691"
      ]
     },
     "execution_count": 7,
     "metadata": {},
     "output_type": "execute_result"
    }
   ],
   "source": [
    "data = pd.read_csv('sales_data.csv')\n",
    "data.head()"
   ]
  },
  {
   "cell_type": "code",
   "execution_count": 6,
   "metadata": {},
   "outputs": [
    {
     "data": {
      "text/html": [
       "<div>\n",
       "<style scoped>\n",
       "    .dataframe tbody tr th:only-of-type {\n",
       "        vertical-align: middle;\n",
       "    }\n",
       "\n",
       "    .dataframe tbody tr th {\n",
       "        vertical-align: top;\n",
       "    }\n",
       "\n",
       "    .dataframe thead th {\n",
       "        text-align: right;\n",
       "    }\n",
       "</style>\n",
       "<table border=\"1\" class=\"dataframe\">\n",
       "  <thead>\n",
       "    <tr style=\"text-align: right;\">\n",
       "      <th></th>\n",
       "      <th>ProductID</th>\n",
       "      <th>QuantitySold</th>\n",
       "      <th>SaleAmount</th>\n",
       "    </tr>\n",
       "  </thead>\n",
       "  <tbody>\n",
       "    <tr>\n",
       "      <th>count</th>\n",
       "      <td>100.000000</td>\n",
       "      <td>100.000000</td>\n",
       "      <td>100.000000</td>\n",
       "    </tr>\n",
       "    <tr>\n",
       "      <th>mean</th>\n",
       "      <td>9.290000</td>\n",
       "      <td>26.400000</td>\n",
       "      <td>1453.436409</td>\n",
       "    </tr>\n",
       "    <tr>\n",
       "      <th>std</th>\n",
       "      <td>5.724826</td>\n",
       "      <td>14.164973</td>\n",
       "      <td>1084.237561</td>\n",
       "    </tr>\n",
       "    <tr>\n",
       "      <th>min</th>\n",
       "      <td>1.000000</td>\n",
       "      <td>1.000000</td>\n",
       "      <td>31.346892</td>\n",
       "    </tr>\n",
       "    <tr>\n",
       "      <th>25%</th>\n",
       "      <td>4.000000</td>\n",
       "      <td>12.750000</td>\n",
       "      <td>675.526415</td>\n",
       "    </tr>\n",
       "    <tr>\n",
       "      <th>50%</th>\n",
       "      <td>9.000000</td>\n",
       "      <td>28.000000</td>\n",
       "      <td>1161.162861</td>\n",
       "    </tr>\n",
       "    <tr>\n",
       "      <th>75%</th>\n",
       "      <td>15.000000</td>\n",
       "      <td>38.500000</td>\n",
       "      <td>1996.705106</td>\n",
       "    </tr>\n",
       "    <tr>\n",
       "      <th>max</th>\n",
       "      <td>19.000000</td>\n",
       "      <td>49.000000</td>\n",
       "      <td>4735.339445</td>\n",
       "    </tr>\n",
       "  </tbody>\n",
       "</table>\n",
       "</div>"
      ],
      "text/plain": [
       "        ProductID  QuantitySold   SaleAmount\n",
       "count  100.000000    100.000000   100.000000\n",
       "mean     9.290000     26.400000  1453.436409\n",
       "std      5.724826     14.164973  1084.237561\n",
       "min      1.000000      1.000000    31.346892\n",
       "25%      4.000000     12.750000   675.526415\n",
       "50%      9.000000     28.000000  1161.162861\n",
       "75%     15.000000     38.500000  1996.705106\n",
       "max     19.000000     49.000000  4735.339445"
      ]
     },
     "execution_count": 6,
     "metadata": {},
     "output_type": "execute_result"
    }
   ],
   "source": [
    "data.describe()"
   ]
  },
  {
   "cell_type": "code",
   "execution_count": 8,
   "metadata": {},
   "outputs": [
    {
     "data": {
      "text/html": [
       "<div>\n",
       "<style scoped>\n",
       "    .dataframe tbody tr th:only-of-type {\n",
       "        vertical-align: middle;\n",
       "    }\n",
       "\n",
       "    .dataframe tbody tr th {\n",
       "        vertical-align: top;\n",
       "    }\n",
       "\n",
       "    .dataframe thead th {\n",
       "        text-align: right;\n",
       "    }\n",
       "</style>\n",
       "<table border=\"1\" class=\"dataframe\">\n",
       "  <thead>\n",
       "    <tr style=\"text-align: right;\">\n",
       "      <th></th>\n",
       "      <th>ProductID</th>\n",
       "      <th>SaleDate</th>\n",
       "      <th>QuantitySold</th>\n",
       "      <th>SaleAmount</th>\n",
       "    </tr>\n",
       "  </thead>\n",
       "  <tbody>\n",
       "    <tr>\n",
       "      <th>0</th>\n",
       "      <td>13</td>\n",
       "      <td>2023-02-14</td>\n",
       "      <td>6</td>\n",
       "      <td>461.670654</td>\n",
       "    </tr>\n",
       "    <tr>\n",
       "      <th>1</th>\n",
       "      <td>16</td>\n",
       "      <td>2023-01-25</td>\n",
       "      <td>24</td>\n",
       "      <td>1273.768063</td>\n",
       "    </tr>\n",
       "    <tr>\n",
       "      <th>2</th>\n",
       "      <td>1</td>\n",
       "      <td>2023-07-08</td>\n",
       "      <td>44</td>\n",
       "      <td>3121.243033</td>\n",
       "    </tr>\n",
       "    <tr>\n",
       "      <th>3</th>\n",
       "      <td>4</td>\n",
       "      <td>2023-05-12</td>\n",
       "      <td>33</td>\n",
       "      <td>2132.923832</td>\n",
       "    </tr>\n",
       "    <tr>\n",
       "      <th>4</th>\n",
       "      <td>4</td>\n",
       "      <td>2023-04-10</td>\n",
       "      <td>12</td>\n",
       "      <td>891.872691</td>\n",
       "    </tr>\n",
       "    <tr>\n",
       "      <th>...</th>\n",
       "      <td>...</td>\n",
       "      <td>...</td>\n",
       "      <td>...</td>\n",
       "      <td>...</td>\n",
       "    </tr>\n",
       "    <tr>\n",
       "      <th>95</th>\n",
       "      <td>17</td>\n",
       "      <td>2023-09-18</td>\n",
       "      <td>20</td>\n",
       "      <td>940.470345</td>\n",
       "    </tr>\n",
       "    <tr>\n",
       "      <th>96</th>\n",
       "      <td>8</td>\n",
       "      <td>2023-08-24</td>\n",
       "      <td>42</td>\n",
       "      <td>1778.045956</td>\n",
       "    </tr>\n",
       "    <tr>\n",
       "      <th>97</th>\n",
       "      <td>10</td>\n",
       "      <td>2023-07-25</td>\n",
       "      <td>30</td>\n",
       "      <td>1378.647058</td>\n",
       "    </tr>\n",
       "    <tr>\n",
       "      <th>98</th>\n",
       "      <td>1</td>\n",
       "      <td>2023-10-20</td>\n",
       "      <td>47</td>\n",
       "      <td>1746.744605</td>\n",
       "    </tr>\n",
       "    <tr>\n",
       "      <th>99</th>\n",
       "      <td>11</td>\n",
       "      <td>2023-08-04</td>\n",
       "      <td>22</td>\n",
       "      <td>1754.935159</td>\n",
       "    </tr>\n",
       "  </tbody>\n",
       "</table>\n",
       "<p>100 rows × 4 columns</p>\n",
       "</div>"
      ],
      "text/plain": [
       "    ProductID   SaleDate  QuantitySold   SaleAmount\n",
       "0          13 2023-02-14             6   461.670654\n",
       "1          16 2023-01-25            24  1273.768063\n",
       "2           1 2023-07-08            44  3121.243033\n",
       "3           4 2023-05-12            33  2132.923832\n",
       "4           4 2023-04-10            12   891.872691\n",
       "..        ...        ...           ...          ...\n",
       "95         17 2023-09-18            20   940.470345\n",
       "96          8 2023-08-24            42  1778.045956\n",
       "97         10 2023-07-25            30  1378.647058\n",
       "98          1 2023-10-20            47  1746.744605\n",
       "99         11 2023-08-04            22  1754.935159\n",
       "\n",
       "[100 rows x 4 columns]"
      ]
     },
     "execution_count": 8,
     "metadata": {},
     "output_type": "execute_result"
    }
   ],
   "source": [
    "# Data cleaning\n",
    "# Assuming 'SaleDate' is in string format\n",
    "data['SaleDate'] = pd.to_datetime(data['SaleDate'])\n",
    "data"
   ]
  },
  {
   "cell_type": "code",
   "execution_count": 10,
   "metadata": {},
   "outputs": [
    {
     "data": {
      "text/plain": [
       "ProductID\n",
       "1     320\n",
       "4     225\n",
       "16    192\n",
       "5     174\n",
       "10    171\n",
       "8     168\n",
       "7     163\n",
       "11    147\n",
       "19    139\n",
       "18    126\n",
       "Name: QuantitySold, dtype: int64"
      ]
     },
     "execution_count": 10,
     "metadata": {},
     "output_type": "execute_result"
    }
   ],
   "source": [
    "# Data analysis\n",
    "total_sales_per_product = data.groupby('ProductID')['QuantitySold'].sum()\n",
    "top_selling_products = total_sales_per_product.sort_values(ascending=False).head(10)\n",
    "top_selling_products"
   ]
  },
  {
   "cell_type": "code",
   "execution_count": 14,
   "metadata": {},
   "outputs": [
    {
     "data": {
      "text/html": [
       "<div>\n",
       "<style scoped>\n",
       "    .dataframe tbody tr th:only-of-type {\n",
       "        vertical-align: middle;\n",
       "    }\n",
       "\n",
       "    .dataframe tbody tr th {\n",
       "        vertical-align: top;\n",
       "    }\n",
       "\n",
       "    .dataframe thead th {\n",
       "        text-align: right;\n",
       "    }\n",
       "</style>\n",
       "<table border=\"1\" class=\"dataframe\">\n",
       "  <thead>\n",
       "    <tr style=\"text-align: right;\">\n",
       "      <th></th>\n",
       "      <th>ProductID</th>\n",
       "      <th>SaleDate</th>\n",
       "      <th>QuantitySold</th>\n",
       "      <th>SaleAmount</th>\n",
       "      <th>DayOfWeek</th>\n",
       "    </tr>\n",
       "  </thead>\n",
       "  <tbody>\n",
       "    <tr>\n",
       "      <th>0</th>\n",
       "      <td>13</td>\n",
       "      <td>2023-02-14</td>\n",
       "      <td>6</td>\n",
       "      <td>461.670654</td>\n",
       "      <td>Tuesday</td>\n",
       "    </tr>\n",
       "    <tr>\n",
       "      <th>1</th>\n",
       "      <td>16</td>\n",
       "      <td>2023-01-25</td>\n",
       "      <td>24</td>\n",
       "      <td>1273.768063</td>\n",
       "      <td>Wednesday</td>\n",
       "    </tr>\n",
       "    <tr>\n",
       "      <th>2</th>\n",
       "      <td>1</td>\n",
       "      <td>2023-07-08</td>\n",
       "      <td>44</td>\n",
       "      <td>3121.243033</td>\n",
       "      <td>Saturday</td>\n",
       "    </tr>\n",
       "    <tr>\n",
       "      <th>3</th>\n",
       "      <td>4</td>\n",
       "      <td>2023-05-12</td>\n",
       "      <td>33</td>\n",
       "      <td>2132.923832</td>\n",
       "      <td>Friday</td>\n",
       "    </tr>\n",
       "    <tr>\n",
       "      <th>4</th>\n",
       "      <td>4</td>\n",
       "      <td>2023-04-10</td>\n",
       "      <td>12</td>\n",
       "      <td>891.872691</td>\n",
       "      <td>Monday</td>\n",
       "    </tr>\n",
       "    <tr>\n",
       "      <th>...</th>\n",
       "      <td>...</td>\n",
       "      <td>...</td>\n",
       "      <td>...</td>\n",
       "      <td>...</td>\n",
       "      <td>...</td>\n",
       "    </tr>\n",
       "    <tr>\n",
       "      <th>95</th>\n",
       "      <td>17</td>\n",
       "      <td>2023-09-18</td>\n",
       "      <td>20</td>\n",
       "      <td>940.470345</td>\n",
       "      <td>Monday</td>\n",
       "    </tr>\n",
       "    <tr>\n",
       "      <th>96</th>\n",
       "      <td>8</td>\n",
       "      <td>2023-08-24</td>\n",
       "      <td>42</td>\n",
       "      <td>1778.045956</td>\n",
       "      <td>Thursday</td>\n",
       "    </tr>\n",
       "    <tr>\n",
       "      <th>97</th>\n",
       "      <td>10</td>\n",
       "      <td>2023-07-25</td>\n",
       "      <td>30</td>\n",
       "      <td>1378.647058</td>\n",
       "      <td>Tuesday</td>\n",
       "    </tr>\n",
       "    <tr>\n",
       "      <th>98</th>\n",
       "      <td>1</td>\n",
       "      <td>2023-10-20</td>\n",
       "      <td>47</td>\n",
       "      <td>1746.744605</td>\n",
       "      <td>Friday</td>\n",
       "    </tr>\n",
       "    <tr>\n",
       "      <th>99</th>\n",
       "      <td>11</td>\n",
       "      <td>2023-08-04</td>\n",
       "      <td>22</td>\n",
       "      <td>1754.935159</td>\n",
       "      <td>Friday</td>\n",
       "    </tr>\n",
       "  </tbody>\n",
       "</table>\n",
       "<p>100 rows × 5 columns</p>\n",
       "</div>"
      ],
      "text/plain": [
       "    ProductID   SaleDate  QuantitySold   SaleAmount  DayOfWeek\n",
       "0          13 2023-02-14             6   461.670654    Tuesday\n",
       "1          16 2023-01-25            24  1273.768063  Wednesday\n",
       "2           1 2023-07-08            44  3121.243033   Saturday\n",
       "3           4 2023-05-12            33  2132.923832     Friday\n",
       "4           4 2023-04-10            12   891.872691     Monday\n",
       "..        ...        ...           ...          ...        ...\n",
       "95         17 2023-09-18            20   940.470345     Monday\n",
       "96          8 2023-08-24            42  1778.045956   Thursday\n",
       "97         10 2023-07-25            30  1378.647058    Tuesday\n",
       "98          1 2023-10-20            47  1746.744605     Friday\n",
       "99         11 2023-08-04            22  1754.935159     Friday\n",
       "\n",
       "[100 rows x 5 columns]"
      ]
     },
     "execution_count": 14,
     "metadata": {},
     "output_type": "execute_result"
    }
   ],
   "source": [
    "# Weekly trend analysis\n",
    "data['DayOfWeek'] = data['SaleDate'].dt.day_name()\n",
    "data"
   ]
  },
  {
   "cell_type": "code",
   "execution_count": 15,
   "metadata": {},
   "outputs": [
    {
     "data": {
      "text/plain": [
       "DayOfWeek\n",
       "Friday       1780.118022\n",
       "Monday       1428.220308\n",
       "Saturday     1467.128720\n",
       "Sunday       1431.799354\n",
       "Thursday     1180.347010\n",
       "Tuesday      1552.030612\n",
       "Wednesday    1307.694248\n",
       "Name: SaleAmount, dtype: float64"
      ]
     },
     "execution_count": 15,
     "metadata": {},
     "output_type": "execute_result"
    }
   ],
   "source": [
    "average_sales_per_day = data.groupby('DayOfWeek')['SaleAmount'].mean()\n",
    "average_sales_per_day"
   ]
  },
  {
   "cell_type": "code",
   "execution_count": 16,
   "metadata": {},
   "outputs": [
    {
     "name": "stdout",
     "output_type": "stream",
     "text": [
      "ANOVA test result: Statistic = 6.08587893118916e-05, p-value = 0.9938255909132856\n"
     ]
    }
   ],
   "source": [
    "# Hypothesis Testing\n",
    "# Example: Comparing sales on Monday vs. Sunday\n",
    "# ANOVA (Analysis of Variance) test to compare sales on Monday versus Sunday, if there's a statistically significant difference in the average sale amounts between these two days of the week. \n",
    "monday_sales = data[data['DayOfWeek'] == 'Monday']['SaleAmount']\n",
    "sunday_sales = data[data['DayOfWeek'] == 'Sunday']['SaleAmount']\n",
    "stat, p = f_oneway(monday_sales, sunday_sales)  # F-value, p-value\n",
    "print('ANOVA test result: Statistic = {}, p-value = {}'.format(stat, p))"
   ]
  },
  {
   "cell_type": "markdown",
   "metadata": {},
   "source": [
    "F-statistic: This value is very close to zero, indicating that the variance between the groups (Monday and Sunday sales) is not significantly different from the variance within the groups.\n",
    "\n",
    "p-value: The p-value is much higher than the common significance level of 0.05 (5%). In statistical testing, a p-value below 0.05 typically suggests that the observed differences are statistically significant.  \n",
    "\n",
    "Conclude that there is no statistically significant difference in the average sale amounts on Mondays versus Sundays in this dataset."
   ]
  },
  {
   "cell_type": "code",
   "execution_count": 17,
   "metadata": {},
   "outputs": [
    {
     "data": {
      "image/png": "[encoded data removed]",
      "text/plain": [
       "<Figure size 1000x600 with 1 Axes>"
      ]
     },
     "metadata": {},
     "output_type": "display_data"
    }
   ],
   "source": [
    "# Data Visualization\n",
    "plt.figure(figsize=(10, 6))\n",
    "top_selling_products.plot(kind='bar')\n",
    "plt.title('Top Selling Products')\n",
    "plt.xlabel('ProductID')\n",
    "plt.ylabel('Total Quantity Sold')\n",
    "plt.show()"
   ]
  },
  {
   "cell_type": "code",
   "execution_count": 18,
   "metadata": {},
   "outputs": [
    {
     "data": {
      "image/png": "[encoded data removed]",
      "text/plain": [
       "<Figure size 1000x600 with 1 Axes>"
      ]
     },
     "metadata": {},
     "output_type": "display_data"
    }
   ],
   "source": [
    "plt.figure(figsize=(10, 6))\n",
    "average_sales_per_day.plot(kind='line')\n",
    "plt.title('Average Daily Sales')\n",
    "plt.xlabel('Day of Week')\n",
    "plt.ylabel('Average Sale Amount')\n",
    "plt.show()"
   ]
  }
 ],
 "metadata": {
  "kernelspec": {
   "display_name": "Python 3",
   "language": "python",
   "name": "python3"
  },
  "language_info": {
   "codemirror_mode": {
    "name": "ipython",
    "version": 3
   },
   "file_extension": ".py",
   "mimetype": "text/x-python",
   "name": "python",
   "nbconvert_exporter": "python",
   "pygments_lexer": "ipython3",
   "version": "3.10.11"
  }
 },
 "nbformat": 4,
 "nbformat_minor": 2
}
