{
 "cells": [
  {
   "cell_type": "code",
   "execution_count": 18,
   "metadata": {},
   "outputs": [],
   "source": [
    "import pandas as pd\n",
    "import numpy as np\n",
    "\n",
    "from scipy.stats import pearsonr\n",
    "import statsmodels.api as sm\n",
    "\n",
    "from sklearn.linear_model import LinearRegression\n",
    "from sklearn.model_selection import train_test_split\n",
    "from sklearn.metrics import mean_squared_error\n",
    "from sklearn.metrics import mean_absolute_error\n",
    "from sklearn.model_selection import cross_val_score"
   ]
  },
  {
   "cell_type": "code",
   "execution_count": 19,
   "metadata": {},
   "outputs": [],
   "source": [
    "num_new_points = 15\n",
    "X = np.random.uniform(0, 6, num_new_points).reshape(-1, 1)  # Generate random X values between 0 and 6\n",
    "Z = np.random.uniform(0, 6, num_new_points).reshape(-1, 1)  # Generate random Z values between 0 and 6\n",
    "noise = np.random.normal(0, 1, num_new_points)  # Generate random noise\n",
    "Y = 2 * X.flatten() + 3 * Z.flatten() + noise\n",
    "\n",
    "df = pd.DataFrame({'X': X.flatten(), 'Z': Z.flatten(), 'Y': Y})"
   ]
  },
  {
   "cell_type": "code",
   "execution_count": 20,
   "metadata": {},
   "outputs": [
    {
     "data": {
      "text/html": [
       "<div>\n",
       "<style scoped>\n",
       "    .dataframe tbody tr th:only-of-type {\n",
       "        vertical-align: middle;\n",
       "    }\n",
       "\n",
       "    .dataframe tbody tr th {\n",
       "        vertical-align: top;\n",
       "    }\n",
       "\n",
       "    .dataframe thead th {\n",
       "        text-align: right;\n",
       "    }\n",
       "</style>\n",
       "<table border=\"1\" class=\"dataframe\">\n",
       "  <thead>\n",
       "    <tr style=\"text-align: right;\">\n",
       "      <th></th>\n",
       "      <th>X</th>\n",
       "      <th>Z</th>\n",
       "      <th>Y</th>\n",
       "    </tr>\n",
       "  </thead>\n",
       "  <tbody>\n",
       "    <tr>\n",
       "      <th>0</th>\n",
       "      <td>1.512850</td>\n",
       "      <td>2.515056</td>\n",
       "      <td>10.189911</td>\n",
       "    </tr>\n",
       "    <tr>\n",
       "      <th>1</th>\n",
       "      <td>2.757271</td>\n",
       "      <td>2.549653</td>\n",
       "      <td>13.489698</td>\n",
       "    </tr>\n",
       "    <tr>\n",
       "      <th>2</th>\n",
       "      <td>1.682384</td>\n",
       "      <td>2.655581</td>\n",
       "      <td>11.206149</td>\n",
       "    </tr>\n",
       "    <tr>\n",
       "      <th>3</th>\n",
       "      <td>5.095929</td>\n",
       "      <td>5.277357</td>\n",
       "      <td>25.281034</td>\n",
       "    </tr>\n",
       "    <tr>\n",
       "      <th>4</th>\n",
       "      <td>3.261318</td>\n",
       "      <td>0.267776</td>\n",
       "      <td>8.238199</td>\n",
       "    </tr>\n",
       "    <tr>\n",
       "      <th>5</th>\n",
       "      <td>5.281695</td>\n",
       "      <td>2.237310</td>\n",
       "      <td>15.463476</td>\n",
       "    </tr>\n",
       "    <tr>\n",
       "      <th>6</th>\n",
       "      <td>2.203893</td>\n",
       "      <td>4.670366</td>\n",
       "      <td>19.445980</td>\n",
       "    </tr>\n",
       "    <tr>\n",
       "      <th>7</th>\n",
       "      <td>3.971799</td>\n",
       "      <td>4.021891</td>\n",
       "      <td>17.781496</td>\n",
       "    </tr>\n",
       "    <tr>\n",
       "      <th>8</th>\n",
       "      <td>2.732847</td>\n",
       "      <td>4.948777</td>\n",
       "      <td>21.089824</td>\n",
       "    </tr>\n",
       "    <tr>\n",
       "      <th>9</th>\n",
       "      <td>1.945122</td>\n",
       "      <td>4.853818</td>\n",
       "      <td>18.550929</td>\n",
       "    </tr>\n",
       "    <tr>\n",
       "      <th>10</th>\n",
       "      <td>5.144795</td>\n",
       "      <td>4.586021</td>\n",
       "      <td>24.813657</td>\n",
       "    </tr>\n",
       "    <tr>\n",
       "      <th>11</th>\n",
       "      <td>1.691982</td>\n",
       "      <td>3.998226</td>\n",
       "      <td>17.596153</td>\n",
       "    </tr>\n",
       "    <tr>\n",
       "      <th>12</th>\n",
       "      <td>2.103573</td>\n",
       "      <td>5.341888</td>\n",
       "      <td>21.518184</td>\n",
       "    </tr>\n",
       "    <tr>\n",
       "      <th>13</th>\n",
       "      <td>4.491408</td>\n",
       "      <td>0.274399</td>\n",
       "      <td>10.203994</td>\n",
       "    </tr>\n",
       "    <tr>\n",
       "      <th>14</th>\n",
       "      <td>0.611107</td>\n",
       "      <td>1.556928</td>\n",
       "      <td>6.020699</td>\n",
       "    </tr>\n",
       "  </tbody>\n",
       "</table>\n",
       "</div>"
      ],
      "text/plain": [
       "           X         Z          Y\n",
       "0   1.512850  2.515056  10.189911\n",
       "1   2.757271  2.549653  13.489698\n",
       "2   1.682384  2.655581  11.206149\n",
       "3   5.095929  5.277357  25.281034\n",
       "4   3.261318  0.267776   8.238199\n",
       "5   5.281695  2.237310  15.463476\n",
       "6   2.203893  4.670366  19.445980\n",
       "7   3.971799  4.021891  17.781496\n",
       "8   2.732847  4.948777  21.089824\n",
       "9   1.945122  4.853818  18.550929\n",
       "10  5.144795  4.586021  24.813657\n",
       "11  1.691982  3.998226  17.596153\n",
       "12  2.103573  5.341888  21.518184\n",
       "13  4.491408  0.274399  10.203994\n",
       "14  0.611107  1.556928   6.020699"
      ]
     },
     "execution_count": 20,
     "metadata": {},
     "output_type": "execute_result"
    }
   ],
   "source": [
    "df"
   ]
  },
  {
   "cell_type": "code",
   "execution_count": 21,
   "metadata": {},
   "outputs": [
    {
     "data": {
      "text/html": [
       "<div>\n",
       "<style scoped>\n",
       "    .dataframe tbody tr th:only-of-type {\n",
       "        vertical-align: middle;\n",
       "    }\n",
       "\n",
       "    .dataframe tbody tr th {\n",
       "        vertical-align: top;\n",
       "    }\n",
       "\n",
       "    .dataframe thead th {\n",
       "        text-align: right;\n",
       "    }\n",
       "</style>\n",
       "<table border=\"1\" class=\"dataframe\">\n",
       "  <thead>\n",
       "    <tr style=\"text-align: right;\">\n",
       "      <th></th>\n",
       "      <th>X</th>\n",
       "      <th>Z</th>\n",
       "      <th>Y</th>\n",
       "      <th>division</th>\n",
       "    </tr>\n",
       "  </thead>\n",
       "  <tbody>\n",
       "    <tr>\n",
       "      <th>0</th>\n",
       "      <td>1.512850</td>\n",
       "      <td>2.515056</td>\n",
       "      <td>10.189911</td>\n",
       "      <td>0.148465</td>\n",
       "    </tr>\n",
       "    <tr>\n",
       "      <th>1</th>\n",
       "      <td>2.757271</td>\n",
       "      <td>2.549653</td>\n",
       "      <td>13.489698</td>\n",
       "      <td>0.204398</td>\n",
       "    </tr>\n",
       "    <tr>\n",
       "      <th>2</th>\n",
       "      <td>1.682384</td>\n",
       "      <td>2.655581</td>\n",
       "      <td>11.206149</td>\n",
       "      <td>0.150130</td>\n",
       "    </tr>\n",
       "    <tr>\n",
       "      <th>3</th>\n",
       "      <td>5.095929</td>\n",
       "      <td>5.277357</td>\n",
       "      <td>25.281034</td>\n",
       "      <td>0.201571</td>\n",
       "    </tr>\n",
       "    <tr>\n",
       "      <th>4</th>\n",
       "      <td>3.261318</td>\n",
       "      <td>0.267776</td>\n",
       "      <td>8.238199</td>\n",
       "      <td>0.395878</td>\n",
       "    </tr>\n",
       "    <tr>\n",
       "      <th>5</th>\n",
       "      <td>5.281695</td>\n",
       "      <td>2.237310</td>\n",
       "      <td>15.463476</td>\n",
       "      <td>0.341559</td>\n",
       "    </tr>\n",
       "    <tr>\n",
       "      <th>6</th>\n",
       "      <td>2.203893</td>\n",
       "      <td>4.670366</td>\n",
       "      <td>19.445980</td>\n",
       "      <td>0.113334</td>\n",
       "    </tr>\n",
       "    <tr>\n",
       "      <th>7</th>\n",
       "      <td>3.971799</td>\n",
       "      <td>4.021891</td>\n",
       "      <td>17.781496</td>\n",
       "      <td>0.223367</td>\n",
       "    </tr>\n",
       "    <tr>\n",
       "      <th>8</th>\n",
       "      <td>2.732847</td>\n",
       "      <td>4.948777</td>\n",
       "      <td>21.089824</td>\n",
       "      <td>0.129581</td>\n",
       "    </tr>\n",
       "    <tr>\n",
       "      <th>9</th>\n",
       "      <td>1.945122</td>\n",
       "      <td>4.853818</td>\n",
       "      <td>18.550929</td>\n",
       "      <td>0.104853</td>\n",
       "    </tr>\n",
       "    <tr>\n",
       "      <th>10</th>\n",
       "      <td>5.144795</td>\n",
       "      <td>4.586021</td>\n",
       "      <td>24.813657</td>\n",
       "      <td>0.207337</td>\n",
       "    </tr>\n",
       "    <tr>\n",
       "      <th>13</th>\n",
       "      <td>4.491408</td>\n",
       "      <td>0.274399</td>\n",
       "      <td>10.203994</td>\n",
       "      <td>0.440162</td>\n",
       "    </tr>\n",
       "    <tr>\n",
       "      <th>14</th>\n",
       "      <td>0.611107</td>\n",
       "      <td>1.556928</td>\n",
       "      <td>6.020699</td>\n",
       "      <td>0.101501</td>\n",
       "    </tr>\n",
       "  </tbody>\n",
       "</table>\n",
       "</div>"
      ],
      "text/plain": [
       "           X         Z          Y  division\n",
       "0   1.512850  2.515056  10.189911  0.148465\n",
       "1   2.757271  2.549653  13.489698  0.204398\n",
       "2   1.682384  2.655581  11.206149  0.150130\n",
       "3   5.095929  5.277357  25.281034  0.201571\n",
       "4   3.261318  0.267776   8.238199  0.395878\n",
       "5   5.281695  2.237310  15.463476  0.341559\n",
       "6   2.203893  4.670366  19.445980  0.113334\n",
       "7   3.971799  4.021891  17.781496  0.223367\n",
       "8   2.732847  4.948777  21.089824  0.129581\n",
       "9   1.945122  4.853818  18.550929  0.104853\n",
       "10  5.144795  4.586021  24.813657  0.207337\n",
       "13  4.491408  0.274399  10.203994  0.440162\n",
       "14  0.611107  1.556928   6.020699  0.101501"
      ]
     },
     "execution_count": 21,
     "metadata": {},
     "output_type": "execute_result"
    }
   ],
   "source": [
    "df['division'] = df['X'] / df['Y']\n",
    "df = df[df['division'] > 0.1]\n",
    "df"
   ]
  },
  {
   "cell_type": "code",
   "execution_count": 22,
   "metadata": {},
   "outputs": [
    {
     "data": {
      "text/plain": [
       "0.21247213934187034"
      ]
     },
     "execution_count": 22,
     "metadata": {},
     "output_type": "execute_result"
    }
   ],
   "source": [
    "np.mean(df['division'])"
   ]
  },
  {
   "cell_type": "code",
   "execution_count": 23,
   "metadata": {},
   "outputs": [
    {
     "data": {
      "text/plain": [
       "0.10150099716600886"
      ]
     },
     "execution_count": 23,
     "metadata": {},
     "output_type": "execute_result"
    }
   ],
   "source": [
    "min(df['division'])"
   ]
  },
  {
   "cell_type": "code",
   "execution_count": 24,
   "metadata": {},
   "outputs": [
    {
     "data": {
      "text/plain": [
       "0.10150099716600886"
      ]
     },
     "execution_count": 24,
     "metadata": {},
     "output_type": "execute_result"
    }
   ],
   "source": [
    "df['division'].min()"
   ]
  },
  {
   "cell_type": "code",
   "execution_count": 25,
   "metadata": {},
   "outputs": [
    {
     "data": {
      "text/plain": [
       "0.11219469355498997"
      ]
     },
     "execution_count": 25,
     "metadata": {},
     "output_type": "execute_result"
    }
   ],
   "source": [
    "df['division'].std()"
   ]
  },
  {
   "cell_type": "code",
   "execution_count": 26,
   "metadata": {},
   "outputs": [
    {
     "data": {
      "text/plain": [
       "0.012587649261898107"
      ]
     },
     "execution_count": 26,
     "metadata": {},
     "output_type": "execute_result"
    }
   ],
   "source": [
    "df['division'].var()"
   ]
  },
  {
   "cell_type": "code",
   "execution_count": 27,
   "metadata": {},
   "outputs": [
    {
     "name": "stdout",
     "output_type": "stream",
     "text": [
      "Correlation coefficient: 0.5328682490570033\n"
     ]
    }
   ],
   "source": [
    "correlation, _ = pearsonr(df['X'], df['Y'])\n",
    "print(f\"Correlation coefficient: {correlation}\")"
   ]
  },
  {
   "cell_type": "code",
   "execution_count": 28,
   "metadata": {},
   "outputs": [
    {
     "name": "stdout",
     "output_type": "stream",
     "text": [
      "                            OLS Regression Results                            \n",
      "==============================================================================\n",
      "Dep. Variable:                      Y   R-squared:                       0.284\n",
      "Model:                            OLS   Adj. R-squared:                  0.219\n",
      "Method:                 Least Squares   F-statistic:                     4.362\n",
      "Date:                Sat, 02 Dec 2023   Prob (F-statistic):             0.0608\n",
      "Time:                        12:48:58   Log-Likelihood:                -39.527\n",
      "No. Observations:                  13   AIC:                             83.05\n",
      "Df Residuals:                      11   BIC:                             84.18\n",
      "Df Model:                           1                                         \n",
      "Covariance Type:            nonrobust                                         \n",
      "==============================================================================\n",
      "                 coef    std err          t      P>|t|      [0.025      0.975]\n",
      "------------------------------------------------------------------------------\n",
      "const          8.8124      3.556      2.478      0.031       0.985      16.640\n",
      "X              2.1433      1.026      2.089      0.061      -0.115       4.402\n",
      "==============================================================================\n",
      "Omnibus:                        2.545   Durbin-Watson:                   1.790\n",
      "Prob(Omnibus):                  0.280   Jarque-Bera (JB):                1.027\n",
      "Skew:                          -0.139   Prob(JB):                        0.598\n",
      "Kurtosis:                       1.651   Cond. No.                         8.63\n",
      "==============================================================================\n",
      "\n",
      "Notes:\n",
      "[1] Standard Errors assume that the covariance matrix of the errors is correctly specified.\n"
     ]
    },
    {
     "name": "stderr",
     "output_type": "stream",
     "text": [
      "C:\\Users\\Steven\\AppData\\Local\\Packages\\PythonSoftwareFoundation.Python.3.10_qbz5n2kfra8p0\\LocalCache\\local-packages\\Python310\\site-packages\\scipy\\stats\\_stats_py.py:1806: UserWarning: kurtosistest only valid for n>=20 ... continuing anyway, n=13\n",
      "  warnings.warn(\"kurtosistest only valid for n>=20 ... continuing \"\n"
     ]
    }
   ],
   "source": [
    "# Regression Analysis\n",
    "X = sm.add_constant(df['X'])  # adding a constant\n",
    "model = sm.OLS(df['Y'], X).fit()\n",
    "print(model.summary())"
   ]
  },
  {
   "cell_type": "code",
   "execution_count": 29,
   "metadata": {},
   "outputs": [
    {
     "name": "stdout",
     "output_type": "stream",
     "text": [
      "Coefficient (Slope): \n",
      " [1.66350452 3.08308919]\n",
      "Intercept: \n",
      " 0.7324073727764517\n",
      "Predicted value for 6: \n",
      " [22.43386445]\n"
     ]
    },
    {
     "name": "stderr",
     "output_type": "stream",
     "text": [
      "C:\\Users\\Steven\\AppData\\Local\\Packages\\PythonSoftwareFoundation.Python.3.10_qbz5n2kfra8p0\\LocalCache\\local-packages\\Python310\\site-packages\\sklearn\\base.py:464: UserWarning: X does not have valid feature names, but LinearRegression was fitted with feature names\n",
      "  warnings.warn(\n"
     ]
    }
   ],
   "source": [
    "# Split the data into training and testing sets\n",
    "X = df[['X', 'Z']]\n",
    "y = df['Y']\n",
    "X_train, X_test, y_train, y_test = train_test_split(X, y, test_size=0.2, random_state=42)\n",
    "\n",
    "# Create and fit a linear regression model\n",
    "model = LinearRegression()\n",
    "model.fit(X_train, y_train)\n",
    "\n",
    "# The coefficients\n",
    "print('Coefficient (Slope): \\n', model.coef_)\n",
    "print('Intercept: \\n', model.intercept_)\n",
    "\n",
    "# Example of predicting a new value\n",
    "print('Predicted value for 6: \\n', model.predict([[4.303745, 4.716749]]))\n",
    "\n",
    "# Make predictions\n",
    "y_pred = model.predict(X_test)"
   ]
  },
  {
   "cell_type": "code",
   "execution_count": 30,
   "metadata": {},
   "outputs": [
    {
     "data": {
      "text/plain": [
       "0.7831122560155332"
      ]
     },
     "execution_count": 30,
     "metadata": {},
     "output_type": "execute_result"
    }
   ],
   "source": [
    "mae = mean_absolute_error(y_test, y_pred)  # Mean Absolute Error (MAE)\n",
    "mae"
   ]
  },
  {
   "cell_type": "code",
   "execution_count": 31,
   "metadata": {},
   "outputs": [
    {
     "data": {
      "text/plain": [
       "0.7130918894955256"
      ]
     },
     "execution_count": 31,
     "metadata": {},
     "output_type": "execute_result"
    }
   ],
   "source": [
    "mse = mean_squared_error(y_test, y_pred)  # Mean Squared Error (RMSE)\n",
    "mse"
   ]
  },
  {
   "cell_type": "code",
   "execution_count": 32,
   "metadata": {},
   "outputs": [
    {
     "data": {
      "text/plain": [
       "0.8444476831015203"
      ]
     },
     "execution_count": 32,
     "metadata": {},
     "output_type": "execute_result"
    }
   ],
   "source": [
    "rmse = np.sqrt(mse)  # Root Mean Squared Error (RMSE)\n",
    "rmse"
   ]
  },
  {
   "cell_type": "code",
   "execution_count": 33,
   "metadata": {},
   "outputs": [
    {
     "data": {
      "text/plain": [
       "13    1.154113\n",
       "9    -0.381952\n",
       "0    -0.813272\n",
       "Name: Y, dtype: float64"
      ]
     },
     "execution_count": 33,
     "metadata": {},
     "output_type": "execute_result"
    }
   ],
   "source": [
    "residuals = y_test - y_pred\n",
    "residuals"
   ]
  },
  {
   "cell_type": "code",
   "execution_count": 34,
   "metadata": {},
   "outputs": [
    {
     "data": {
      "text/plain": [
       "1.2530306283155324"
      ]
     },
     "execution_count": 34,
     "metadata": {},
     "output_type": "execute_result"
    }
   ],
   "source": [
    "scores = cross_val_score(model, X, y, cv=5, scoring='neg_mean_squared_error')\n",
    "mse_cv = -scores.mean()  # Average (Meab Squared Error) MSE across cross-validation folds, evaluate its generalization ability and assess its stability.\n",
    "mse_cv"
   ]
  }
 ],
 "metadata": {
  "kernelspec": {
   "display_name": "Python 3",
   "language": "python",
   "name": "python3"
  },
  "language_info": {
   "codemirror_mode": {
    "name": "ipython",
    "version": 3
   },
   "file_extension": ".py",
   "mimetype": "text/x-python",
   "name": "python",
   "nbconvert_exporter": "python",
   "pygments_lexer": "ipython3",
   "version": "3.10.11"
  }
 },
 "nbformat": 4,
 "nbformat_minor": 2
}
