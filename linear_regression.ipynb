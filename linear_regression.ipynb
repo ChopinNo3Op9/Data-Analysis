{
 "cells": [
  {
   "cell_type": "code",
   "execution_count": 15,
   "metadata": {},
   "outputs": [],
   "source": [
    "import pandas as pd\n",
    "import numpy as np\n",
    "\n",
    "from scipy.stats import pearsonr\n",
    "import statsmodels.api as sm\n",
    "\n",
    "from sklearn.metrics import r2_score\n",
    "from sklearn.linear_model import LinearRegression\n",
    "from sklearn.model_selection import train_test_split\n",
    "from sklearn.metrics import mean_squared_error\n",
    "from sklearn.metrics import mean_absolute_error\n",
    "from sklearn.model_selection import cross_val_score"
   ]
  },
  {
   "cell_type": "code",
   "execution_count": 16,
   "metadata": {},
   "outputs": [],
   "source": [
    "num_new_points = 15\n",
    "X = np.random.uniform(0, 6, num_new_points).reshape(-1, 1)  # Generate random X values between 0 and 6\n",
    "Z = np.random.uniform(0, 6, num_new_points).reshape(-1, 1)  # Generate random Z values between 0 and 6\n",
    "noise = np.random.normal(0, 1, num_new_points)  # Generate random noise\n",
    "Y = 2 * X.flatten() + 3 * Z.flatten() + noise\n",
    "\n",
    "df = pd.DataFrame({'X': X.flatten(), 'Z': Z.flatten(), 'Y': Y})"
   ]
  },
  {
   "cell_type": "code",
   "execution_count": 17,
   "metadata": {},
   "outputs": [
    {
     "data": {
      "text/html": [
       "<div>\n",
       "<style scoped>\n",
       "    .dataframe tbody tr th:only-of-type {\n",
       "        vertical-align: middle;\n",
       "    }\n",
       "\n",
       "    .dataframe tbody tr th {\n",
       "        vertical-align: top;\n",
       "    }\n",
       "\n",
       "    .dataframe thead th {\n",
       "        text-align: right;\n",
       "    }\n",
       "</style>\n",
       "<table border=\"1\" class=\"dataframe\">\n",
       "  <thead>\n",
       "    <tr style=\"text-align: right;\">\n",
       "      <th></th>\n",
       "      <th>X</th>\n",
       "      <th>Z</th>\n",
       "      <th>Y</th>\n",
       "    </tr>\n",
       "  </thead>\n",
       "  <tbody>\n",
       "    <tr>\n",
       "      <th>0</th>\n",
       "      <td>1.469825</td>\n",
       "      <td>2.568025</td>\n",
       "      <td>11.871448</td>\n",
       "    </tr>\n",
       "    <tr>\n",
       "      <th>1</th>\n",
       "      <td>1.054233</td>\n",
       "      <td>4.379349</td>\n",
       "      <td>13.862143</td>\n",
       "    </tr>\n",
       "    <tr>\n",
       "      <th>2</th>\n",
       "      <td>2.663415</td>\n",
       "      <td>0.844644</td>\n",
       "      <td>9.651096</td>\n",
       "    </tr>\n",
       "    <tr>\n",
       "      <th>3</th>\n",
       "      <td>5.150989</td>\n",
       "      <td>3.044877</td>\n",
       "      <td>20.273056</td>\n",
       "    </tr>\n",
       "    <tr>\n",
       "      <th>4</th>\n",
       "      <td>5.425958</td>\n",
       "      <td>0.280545</td>\n",
       "      <td>10.763104</td>\n",
       "    </tr>\n",
       "    <tr>\n",
       "      <th>5</th>\n",
       "      <td>2.314765</td>\n",
       "      <td>0.777337</td>\n",
       "      <td>8.613171</td>\n",
       "    </tr>\n",
       "    <tr>\n",
       "      <th>6</th>\n",
       "      <td>5.956077</td>\n",
       "      <td>4.812495</td>\n",
       "      <td>25.382074</td>\n",
       "    </tr>\n",
       "    <tr>\n",
       "      <th>7</th>\n",
       "      <td>3.975448</td>\n",
       "      <td>5.658878</td>\n",
       "      <td>24.605853</td>\n",
       "    </tr>\n",
       "    <tr>\n",
       "      <th>8</th>\n",
       "      <td>1.786268</td>\n",
       "      <td>0.907559</td>\n",
       "      <td>6.350750</td>\n",
       "    </tr>\n",
       "    <tr>\n",
       "      <th>9</th>\n",
       "      <td>5.537101</td>\n",
       "      <td>4.409263</td>\n",
       "      <td>24.441184</td>\n",
       "    </tr>\n",
       "    <tr>\n",
       "      <th>10</th>\n",
       "      <td>1.384052</td>\n",
       "      <td>5.492531</td>\n",
       "      <td>20.810514</td>\n",
       "    </tr>\n",
       "    <tr>\n",
       "      <th>11</th>\n",
       "      <td>0.211076</td>\n",
       "      <td>1.762815</td>\n",
       "      <td>5.410636</td>\n",
       "    </tr>\n",
       "    <tr>\n",
       "      <th>12</th>\n",
       "      <td>0.129170</td>\n",
       "      <td>1.650491</td>\n",
       "      <td>3.766206</td>\n",
       "    </tr>\n",
       "    <tr>\n",
       "      <th>13</th>\n",
       "      <td>5.062690</td>\n",
       "      <td>3.127835</td>\n",
       "      <td>19.120420</td>\n",
       "    </tr>\n",
       "    <tr>\n",
       "      <th>14</th>\n",
       "      <td>1.302003</td>\n",
       "      <td>4.390386</td>\n",
       "      <td>15.450366</td>\n",
       "    </tr>\n",
       "  </tbody>\n",
       "</table>\n",
       "</div>"
      ],
      "text/plain": [
       "           X         Z          Y\n",
       "0   1.469825  2.568025  11.871448\n",
       "1   1.054233  4.379349  13.862143\n",
       "2   2.663415  0.844644   9.651096\n",
       "3   5.150989  3.044877  20.273056\n",
       "4   5.425958  0.280545  10.763104\n",
       "5   2.314765  0.777337   8.613171\n",
       "6   5.956077  4.812495  25.382074\n",
       "7   3.975448  5.658878  24.605853\n",
       "8   1.786268  0.907559   6.350750\n",
       "9   5.537101  4.409263  24.441184\n",
       "10  1.384052  5.492531  20.810514\n",
       "11  0.211076  1.762815   5.410636\n",
       "12  0.129170  1.650491   3.766206\n",
       "13  5.062690  3.127835  19.120420\n",
       "14  1.302003  4.390386  15.450366"
      ]
     },
     "execution_count": 17,
     "metadata": {},
     "output_type": "execute_result"
    }
   ],
   "source": [
    "df"
   ]
  },
  {
   "cell_type": "code",
   "execution_count": 18,
   "metadata": {},
   "outputs": [
    {
     "data": {
      "text/html": [
       "<div>\n",
       "<style scoped>\n",
       "    .dataframe tbody tr th:only-of-type {\n",
       "        vertical-align: middle;\n",
       "    }\n",
       "\n",
       "    .dataframe tbody tr th {\n",
       "        vertical-align: top;\n",
       "    }\n",
       "\n",
       "    .dataframe thead th {\n",
       "        text-align: right;\n",
       "    }\n",
       "</style>\n",
       "<table border=\"1\" class=\"dataframe\">\n",
       "  <thead>\n",
       "    <tr style=\"text-align: right;\">\n",
       "      <th></th>\n",
       "      <th>X</th>\n",
       "      <th>Z</th>\n",
       "      <th>Y</th>\n",
       "      <th>division</th>\n",
       "    </tr>\n",
       "  </thead>\n",
       "  <tbody>\n",
       "    <tr>\n",
       "      <th>0</th>\n",
       "      <td>1.469825</td>\n",
       "      <td>2.568025</td>\n",
       "      <td>11.871448</td>\n",
       "      <td>0.123812</td>\n",
       "    </tr>\n",
       "    <tr>\n",
       "      <th>2</th>\n",
       "      <td>2.663415</td>\n",
       "      <td>0.844644</td>\n",
       "      <td>9.651096</td>\n",
       "      <td>0.275970</td>\n",
       "    </tr>\n",
       "    <tr>\n",
       "      <th>3</th>\n",
       "      <td>5.150989</td>\n",
       "      <td>3.044877</td>\n",
       "      <td>20.273056</td>\n",
       "      <td>0.254081</td>\n",
       "    </tr>\n",
       "    <tr>\n",
       "      <th>4</th>\n",
       "      <td>5.425958</td>\n",
       "      <td>0.280545</td>\n",
       "      <td>10.763104</td>\n",
       "      <td>0.504126</td>\n",
       "    </tr>\n",
       "    <tr>\n",
       "      <th>5</th>\n",
       "      <td>2.314765</td>\n",
       "      <td>0.777337</td>\n",
       "      <td>8.613171</td>\n",
       "      <td>0.268747</td>\n",
       "    </tr>\n",
       "    <tr>\n",
       "      <th>6</th>\n",
       "      <td>5.956077</td>\n",
       "      <td>4.812495</td>\n",
       "      <td>25.382074</td>\n",
       "      <td>0.234657</td>\n",
       "    </tr>\n",
       "    <tr>\n",
       "      <th>7</th>\n",
       "      <td>3.975448</td>\n",
       "      <td>5.658878</td>\n",
       "      <td>24.605853</td>\n",
       "      <td>0.161565</td>\n",
       "    </tr>\n",
       "    <tr>\n",
       "      <th>8</th>\n",
       "      <td>1.786268</td>\n",
       "      <td>0.907559</td>\n",
       "      <td>6.350750</td>\n",
       "      <td>0.281269</td>\n",
       "    </tr>\n",
       "    <tr>\n",
       "      <th>9</th>\n",
       "      <td>5.537101</td>\n",
       "      <td>4.409263</td>\n",
       "      <td>24.441184</td>\n",
       "      <td>0.226548</td>\n",
       "    </tr>\n",
       "    <tr>\n",
       "      <th>13</th>\n",
       "      <td>5.062690</td>\n",
       "      <td>3.127835</td>\n",
       "      <td>19.120420</td>\n",
       "      <td>0.264779</td>\n",
       "    </tr>\n",
       "  </tbody>\n",
       "</table>\n",
       "</div>"
      ],
      "text/plain": [
       "           X         Z          Y  division\n",
       "0   1.469825  2.568025  11.871448  0.123812\n",
       "2   2.663415  0.844644   9.651096  0.275970\n",
       "3   5.150989  3.044877  20.273056  0.254081\n",
       "4   5.425958  0.280545  10.763104  0.504126\n",
       "5   2.314765  0.777337   8.613171  0.268747\n",
       "6   5.956077  4.812495  25.382074  0.234657\n",
       "7   3.975448  5.658878  24.605853  0.161565\n",
       "8   1.786268  0.907559   6.350750  0.281269\n",
       "9   5.537101  4.409263  24.441184  0.226548\n",
       "13  5.062690  3.127835  19.120420  0.264779"
      ]
     },
     "execution_count": 18,
     "metadata": {},
     "output_type": "execute_result"
    }
   ],
   "source": [
    "df['division'] = df['X'] / df['Y']\n",
    "df = df[df['division'] > 0.1]\n",
    "df"
   ]
  },
  {
   "cell_type": "code",
   "execution_count": 19,
   "metadata": {},
   "outputs": [
    {
     "data": {
      "text/plain": [
       "0.25955534262559626"
      ]
     },
     "execution_count": 19,
     "metadata": {},
     "output_type": "execute_result"
    }
   ],
   "source": [
    "np.mean(df['division'])"
   ]
  },
  {
   "cell_type": "code",
   "execution_count": 20,
   "metadata": {},
   "outputs": [
    {
     "data": {
      "text/plain": [
       "0.12381180933369132"
      ]
     },
     "execution_count": 20,
     "metadata": {},
     "output_type": "execute_result"
    }
   ],
   "source": [
    "min(df['division'])"
   ]
  },
  {
   "cell_type": "code",
   "execution_count": 21,
   "metadata": {},
   "outputs": [
    {
     "data": {
      "text/plain": [
       "0.12381180933369132"
      ]
     },
     "execution_count": 21,
     "metadata": {},
     "output_type": "execute_result"
    }
   ],
   "source": [
    "df['division'].min()"
   ]
  },
  {
   "cell_type": "code",
   "execution_count": 22,
   "metadata": {},
   "outputs": [
    {
     "data": {
      "text/plain": [
       "0.10024146851803395"
      ]
     },
     "execution_count": 22,
     "metadata": {},
     "output_type": "execute_result"
    }
   ],
   "source": [
    "df['division'].std()"
   ]
  },
  {
   "cell_type": "code",
   "execution_count": 23,
   "metadata": {},
   "outputs": [
    {
     "data": {
      "text/plain": [
       "0.010048352010651991"
      ]
     },
     "execution_count": 23,
     "metadata": {},
     "output_type": "execute_result"
    }
   ],
   "source": [
    "df['division'].var()"
   ]
  },
  {
   "cell_type": "code",
   "execution_count": 24,
   "metadata": {},
   "outputs": [
    {
     "name": "stdout",
     "output_type": "stream",
     "text": [
      "Correlation coefficient: 0.7396039849573846\n"
     ]
    }
   ],
   "source": [
    "correlation, _ = pearsonr(df['X'], df['Y'])\n",
    "print(f\"Correlation coefficient: {correlation}\")"
   ]
  },
  {
   "cell_type": "code",
   "execution_count": 25,
   "metadata": {},
   "outputs": [
    {
     "name": "stdout",
     "output_type": "stream",
     "text": [
      "                            OLS Regression Results                            \n",
      "==============================================================================\n",
      "Dep. Variable:                      Y   R-squared:                       0.547\n",
      "Model:                            OLS   Adj. R-squared:                  0.490\n",
      "Method:                 Least Squares   F-statistic:                     9.661\n",
      "Date:                Sun, 03 Dec 2023   Prob (F-statistic):             0.0145\n",
      "Time:                        18:07:14   Log-Likelihood:                -29.726\n",
      "No. Observations:                  10   AIC:                             63.45\n",
      "Df Residuals:                       8   BIC:                             64.06\n",
      "Df Model:                           1                                         \n",
      "Covariance Type:            nonrobust                                         \n",
      "==============================================================================\n",
      "                 coef    std err          t      P>|t|      [0.025      0.975]\n",
      "------------------------------------------------------------------------------\n",
      "const          3.5630      4.369      0.816      0.438      -6.511      13.637\n",
      "X              3.1885      1.026      3.108      0.014       0.823       5.554\n",
      "==============================================================================\n",
      "Omnibus:                        1.501   Durbin-Watson:                   2.005\n",
      "Prob(Omnibus):                  0.472   Jarque-Bera (JB):                0.240\n",
      "Skew:                          -0.371   Prob(JB):                        0.887\n",
      "Kurtosis:                       3.157   Cond. No.                         11.7\n",
      "==============================================================================\n",
      "\n",
      "Notes:\n",
      "[1] Standard Errors assume that the covariance matrix of the errors is correctly specified.\n"
     ]
    },
    {
     "name": "stderr",
     "output_type": "stream",
     "text": [
      "C:\\Users\\Steven\\AppData\\Local\\Packages\\PythonSoftwareFoundation.Python.3.10_qbz5n2kfra8p0\\LocalCache\\local-packages\\Python310\\site-packages\\scipy\\stats\\_stats_py.py:1806: UserWarning: kurtosistest only valid for n>=20 ... continuing anyway, n=10\n",
      "  warnings.warn(\"kurtosistest only valid for n>=20 ... continuing \"\n"
     ]
    }
   ],
   "source": [
    "# Regression Analysis\n",
    "X = sm.add_constant(df['X'])  # adding a constant\n",
    "model = sm.OLS(df['Y'], X).fit()\n",
    "print(model.summary())"
   ]
  },
  {
   "cell_type": "code",
   "execution_count": 26,
   "metadata": {},
   "outputs": [
    {
     "name": "stdout",
     "output_type": "stream",
     "text": [
      "Coefficient (Slope): \n",
      " [1.62784877 2.97471882]\n",
      "Intercept: \n",
      " 1.6610143424551431\n",
      "Predicted value for 6: \n",
      " [22.6978624]\n"
     ]
    },
    {
     "name": "stderr",
     "output_type": "stream",
     "text": [
      "C:\\Users\\Steven\\AppData\\Local\\Packages\\PythonSoftwareFoundation.Python.3.10_qbz5n2kfra8p0\\LocalCache\\local-packages\\Python310\\site-packages\\sklearn\\base.py:464: UserWarning: X does not have valid feature names, but LinearRegression was fitted with feature names\n",
      "  warnings.warn(\n"
     ]
    }
   ],
   "source": [
    "# Split the data into training and testing sets\n",
    "X = df[['X', 'Z']]\n",
    "y = df['Y']\n",
    "X_train, X_test, y_train, y_test = train_test_split(X, y, test_size=0.2, random_state=42)\n",
    "\n",
    "# Create and fit a linear regression model\n",
    "model = LinearRegression()\n",
    "model.fit(X_train, y_train)\n",
    "\n",
    "# The coefficients\n",
    "print('Coefficient (Slope): \\n', model.coef_)\n",
    "print('Intercept: \\n', model.intercept_)\n",
    "\n",
    "# Example of predicting a new value\n",
    "print('Predicted value for 6: \\n', model.predict([[4.303745, 4.716749]]))\n",
    "\n",
    "# Make predictions\n",
    "y_pred = model.predict(X_test)"
   ]
  },
  {
   "cell_type": "code",
   "execution_count": 27,
   "metadata": {},
   "outputs": [
    {
     "data": {
      "text/plain": [
       "0.984212460024564"
      ]
     },
     "execution_count": 27,
     "metadata": {},
     "output_type": "execute_result"
    }
   ],
   "source": [
    "r_squared = r2_score(y_test, y_pred) # Coefficient of Determination, R-squared value\n",
    "r_squared"
   ]
  },
  {
   "cell_type": "code",
   "execution_count": 28,
   "metadata": {},
   "outputs": [
    {
     "data": {
      "text/plain": [
       "0.8960779010123678"
      ]
     },
     "execution_count": 28,
     "metadata": {},
     "output_type": "execute_result"
    }
   ],
   "source": [
    "mae = mean_absolute_error(y_test, y_pred)  # Mean Absolute Error (MAE)\n",
    "mae"
   ]
  },
  {
   "cell_type": "code",
   "execution_count": 29,
   "metadata": {},
   "outputs": [
    {
     "data": {
      "text/plain": [
       "0.8633680494498952"
      ]
     },
     "execution_count": 29,
     "metadata": {},
     "output_type": "execute_result"
    }
   ],
   "source": [
    "mse = mean_squared_error(y_test, y_pred)  # Mean Squared Error (RMSE)\n",
    "mse"
   ]
  },
  {
   "cell_type": "markdown",
   "metadata": {},
   "source": [
    "Advantages of MSE:\n",
    "\n",
    "Sensitivity to Errors: MSE gives more weight to large errors because it squares the differences between predicted and actual values. This means that it is particularly sensitive to outliers and can penalize them more heavily. In some cases, this is desirable as it can help the model focus on reducing large errors.\n",
    "\n",
    "Disadvantages of MSE:\n",
    "\n",
    "Units of Measurement: The units of MSE are the square of the units of the dependent variable, which can make it less interpretable. For example, if you're predicting house prices in dollars, MSE will be in square dollars, which doesn't have a direct interpretation.\n",
    "\n",
    "Sensitivity to Outliers: While the sensitivity to outliers can be an advantage in some cases, it can also be a disadvantage. Outliers can have a disproportionate impact on MSE, and if your dataset contains many outliers, it might not provide a representative measure of overall model performance.\n",
    "\n",
    "\n",
    "Advantages of MAE:\n",
    "\n",
    "Robustness to Outliers: MAE is less sensitive to outliers compared to MSE because it doesn't square the errors. This makes it a more robust metric when your dataset contains significant outliers.\n",
    "\n",
    "Interpretability: MAE has a more straightforward interpretation because it gives the average absolute error in the same units as the dependent variable. This makes it easier to explain to non-technical stakeholders.\n",
    "\n",
    "Disadvantages of MAE:\n",
    "\n",
    "Less Emphasis on Large Errors: MAE treats all errors, whether large or small, with equal weight. In cases where you want to focus more on reducing large errors, this may not be the most appropriate metric.\n",
    "\n",
    "Less Information on Outliers: While MAE is less sensitive to outliers, it provides less information about the distribution of errors compared to MSE. This might be a disadvantage if you need to understand the nature of errors in your model."
   ]
  },
  {
   "cell_type": "code",
   "execution_count": 30,
   "metadata": {},
   "outputs": [
    {
     "data": {
      "text/plain": [
       "0.9291760056361201"
      ]
     },
     "execution_count": 30,
     "metadata": {},
     "output_type": "execute_result"
    }
   ],
   "source": [
    "rmse = np.sqrt(mse)  # Root Mean Squared Error (RMSE)\n",
    "rmse"
   ]
  },
  {
   "cell_type": "code",
   "execution_count": 31,
   "metadata": {},
   "outputs": [
    {
     "data": {
      "text/plain": [
       "9    0.650288\n",
       "2    1.141867\n",
       "Name: Y, dtype: float64"
      ]
     },
     "execution_count": 31,
     "metadata": {},
     "output_type": "execute_result"
    }
   ],
   "source": [
    "residuals = y_test - y_pred\n",
    "residuals"
   ]
  },
  {
   "cell_type": "code",
   "execution_count": 32,
   "metadata": {},
   "outputs": [
    {
     "data": {
      "text/plain": [
       "0.9850336881128223"
      ]
     },
     "execution_count": 32,
     "metadata": {},
     "output_type": "execute_result"
    }
   ],
   "source": [
    "scores = cross_val_score(model, X, y, cv=5, scoring='neg_mean_squared_error')\n",
    "mse_cv = -scores.mean()  # Average (Meab Squared Error) MSE across cross-validation folds, evaluate its generalization ability and assess its stability.\n",
    "mse_cv"
   ]
  }
 ],
 "metadata": {
  "kernelspec": {
   "display_name": "Python 3",
   "language": "python",
   "name": "python3"
  },
  "language_info": {
   "codemirror_mode": {
    "name": "ipython",
    "version": 3
   },
   "file_extension": ".py",
   "mimetype": "text/x-python",
   "name": "python",
   "nbconvert_exporter": "python",
   "pygments_lexer": "ipython3",
   "version": "3.10.11"
  }
 },
 "nbformat": 4,
 "nbformat_minor": 2
}
