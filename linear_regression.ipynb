{
 "cells": [
  {
   "cell_type": "code",
   "execution_count": 2,
   "metadata": {},
   "outputs": [],
   "source": [
    "import pandas as pd\n",
    "import numpy as np\n",
    "import matplotlib.pyplot as plt\n",
    "\n",
    "from scipy.stats import pearsonr\n",
    "import statsmodels.api as sm\n",
    "\n",
    "from sklearn.metrics import r2_score\n",
    "from sklearn.linear_model import LinearRegression\n",
    "from sklearn.model_selection import train_test_split\n",
    "from sklearn.metrics import mean_squared_error\n",
    "from sklearn.metrics import mean_absolute_error\n",
    "from sklearn.model_selection import cross_val_score"
   ]
  },
  {
   "cell_type": "code",
   "execution_count": 3,
   "metadata": {},
   "outputs": [],
   "source": [
    "num_new_points = 15\n",
    "X = np.random.uniform(0, 6, num_new_points).reshape(-1, 1)  # Generate random X values between 0 and 6\n",
    "Z = np.random.uniform(0, 6, num_new_points).reshape(-1, 1)  # Generate random Z values between 0 and 6\n",
    "noise = np.random.normal(0, 1, num_new_points)  # Generate random noise\n",
    "Y = 2 * X.flatten() + 3 * Z.flatten() + noise\n",
    "\n",
    "df = pd.DataFrame({'X': X.flatten(), 'Z': Z.flatten(), 'Y': Y})"
   ]
  },
  {
   "cell_type": "code",
   "execution_count": 4,
   "metadata": {},
   "outputs": [
    {
     "data": {
      "text/html": [
       "<div>\n",
       "<style scoped>\n",
       "    .dataframe tbody tr th:only-of-type {\n",
       "        vertical-align: middle;\n",
       "    }\n",
       "\n",
       "    .dataframe tbody tr th {\n",
       "        vertical-align: top;\n",
       "    }\n",
       "\n",
       "    .dataframe thead th {\n",
       "        text-align: right;\n",
       "    }\n",
       "</style>\n",
       "<table border=\"1\" class=\"dataframe\">\n",
       "  <thead>\n",
       "    <tr style=\"text-align: right;\">\n",
       "      <th></th>\n",
       "      <th>X</th>\n",
       "      <th>Z</th>\n",
       "      <th>Y</th>\n",
       "    </tr>\n",
       "  </thead>\n",
       "  <tbody>\n",
       "    <tr>\n",
       "      <th>0</th>\n",
       "      <td>5.442499</td>\n",
       "      <td>5.794283</td>\n",
       "      <td>29.685784</td>\n",
       "    </tr>\n",
       "    <tr>\n",
       "      <th>1</th>\n",
       "      <td>0.468590</td>\n",
       "      <td>0.423002</td>\n",
       "      <td>3.365729</td>\n",
       "    </tr>\n",
       "    <tr>\n",
       "      <th>2</th>\n",
       "      <td>1.352092</td>\n",
       "      <td>1.036673</td>\n",
       "      <td>6.852344</td>\n",
       "    </tr>\n",
       "    <tr>\n",
       "      <th>3</th>\n",
       "      <td>5.824615</td>\n",
       "      <td>2.536311</td>\n",
       "      <td>18.357921</td>\n",
       "    </tr>\n",
       "    <tr>\n",
       "      <th>4</th>\n",
       "      <td>1.973446</td>\n",
       "      <td>5.022485</td>\n",
       "      <td>18.902389</td>\n",
       "    </tr>\n",
       "    <tr>\n",
       "      <th>5</th>\n",
       "      <td>2.237543</td>\n",
       "      <td>1.921100</td>\n",
       "      <td>11.752856</td>\n",
       "    </tr>\n",
       "    <tr>\n",
       "      <th>6</th>\n",
       "      <td>5.774384</td>\n",
       "      <td>1.201787</td>\n",
       "      <td>15.968960</td>\n",
       "    </tr>\n",
       "    <tr>\n",
       "      <th>7</th>\n",
       "      <td>0.420124</td>\n",
       "      <td>5.474388</td>\n",
       "      <td>17.768589</td>\n",
       "    </tr>\n",
       "    <tr>\n",
       "      <th>8</th>\n",
       "      <td>1.765163</td>\n",
       "      <td>4.076577</td>\n",
       "      <td>14.195061</td>\n",
       "    </tr>\n",
       "    <tr>\n",
       "      <th>9</th>\n",
       "      <td>2.359670</td>\n",
       "      <td>3.492678</td>\n",
       "      <td>14.673190</td>\n",
       "    </tr>\n",
       "    <tr>\n",
       "      <th>10</th>\n",
       "      <td>0.070962</td>\n",
       "      <td>0.362526</td>\n",
       "      <td>-1.035834</td>\n",
       "    </tr>\n",
       "    <tr>\n",
       "      <th>11</th>\n",
       "      <td>5.803808</td>\n",
       "      <td>3.794329</td>\n",
       "      <td>21.216470</td>\n",
       "    </tr>\n",
       "    <tr>\n",
       "      <th>12</th>\n",
       "      <td>3.590371</td>\n",
       "      <td>1.429315</td>\n",
       "      <td>11.424195</td>\n",
       "    </tr>\n",
       "    <tr>\n",
       "      <th>13</th>\n",
       "      <td>4.790839</td>\n",
       "      <td>5.291310</td>\n",
       "      <td>26.025001</td>\n",
       "    </tr>\n",
       "    <tr>\n",
       "      <th>14</th>\n",
       "      <td>1.510330</td>\n",
       "      <td>1.700206</td>\n",
       "      <td>8.233541</td>\n",
       "    </tr>\n",
       "  </tbody>\n",
       "</table>\n",
       "</div>"
      ],
      "text/plain": [
       "           X         Z          Y\n",
       "0   5.442499  5.794283  29.685784\n",
       "1   0.468590  0.423002   3.365729\n",
       "2   1.352092  1.036673   6.852344\n",
       "3   5.824615  2.536311  18.357921\n",
       "4   1.973446  5.022485  18.902389\n",
       "5   2.237543  1.921100  11.752856\n",
       "6   5.774384  1.201787  15.968960\n",
       "7   0.420124  5.474388  17.768589\n",
       "8   1.765163  4.076577  14.195061\n",
       "9   2.359670  3.492678  14.673190\n",
       "10  0.070962  0.362526  -1.035834\n",
       "11  5.803808  3.794329  21.216470\n",
       "12  3.590371  1.429315  11.424195\n",
       "13  4.790839  5.291310  26.025001\n",
       "14  1.510330  1.700206   8.233541"
      ]
     },
     "execution_count": 4,
     "metadata": {},
     "output_type": "execute_result"
    }
   ],
   "source": [
    "df"
   ]
  },
  {
   "cell_type": "code",
   "execution_count": 5,
   "metadata": {},
   "outputs": [
    {
     "data": {
      "text/html": [
       "<div>\n",
       "<style scoped>\n",
       "    .dataframe tbody tr th:only-of-type {\n",
       "        vertical-align: middle;\n",
       "    }\n",
       "\n",
       "    .dataframe tbody tr th {\n",
       "        vertical-align: top;\n",
       "    }\n",
       "\n",
       "    .dataframe thead th {\n",
       "        text-align: right;\n",
       "    }\n",
       "</style>\n",
       "<table border=\"1\" class=\"dataframe\">\n",
       "  <thead>\n",
       "    <tr style=\"text-align: right;\">\n",
       "      <th></th>\n",
       "      <th>X</th>\n",
       "      <th>Z</th>\n",
       "      <th>Y</th>\n",
       "      <th>division</th>\n",
       "    </tr>\n",
       "  </thead>\n",
       "  <tbody>\n",
       "    <tr>\n",
       "      <th>0</th>\n",
       "      <td>5.442499</td>\n",
       "      <td>5.794283</td>\n",
       "      <td>29.685784</td>\n",
       "      <td>0.183337</td>\n",
       "    </tr>\n",
       "    <tr>\n",
       "      <th>1</th>\n",
       "      <td>0.468590</td>\n",
       "      <td>0.423002</td>\n",
       "      <td>3.365729</td>\n",
       "      <td>0.139224</td>\n",
       "    </tr>\n",
       "    <tr>\n",
       "      <th>2</th>\n",
       "      <td>1.352092</td>\n",
       "      <td>1.036673</td>\n",
       "      <td>6.852344</td>\n",
       "      <td>0.197318</td>\n",
       "    </tr>\n",
       "    <tr>\n",
       "      <th>3</th>\n",
       "      <td>5.824615</td>\n",
       "      <td>2.536311</td>\n",
       "      <td>18.357921</td>\n",
       "      <td>0.317281</td>\n",
       "    </tr>\n",
       "    <tr>\n",
       "      <th>4</th>\n",
       "      <td>1.973446</td>\n",
       "      <td>5.022485</td>\n",
       "      <td>18.902389</td>\n",
       "      <td>0.104402</td>\n",
       "    </tr>\n",
       "    <tr>\n",
       "      <th>5</th>\n",
       "      <td>2.237543</td>\n",
       "      <td>1.921100</td>\n",
       "      <td>11.752856</td>\n",
       "      <td>0.190383</td>\n",
       "    </tr>\n",
       "    <tr>\n",
       "      <th>6</th>\n",
       "      <td>5.774384</td>\n",
       "      <td>1.201787</td>\n",
       "      <td>15.968960</td>\n",
       "      <td>0.361601</td>\n",
       "    </tr>\n",
       "    <tr>\n",
       "      <th>8</th>\n",
       "      <td>1.765163</td>\n",
       "      <td>4.076577</td>\n",
       "      <td>14.195061</td>\n",
       "      <td>0.124350</td>\n",
       "    </tr>\n",
       "    <tr>\n",
       "      <th>9</th>\n",
       "      <td>2.359670</td>\n",
       "      <td>3.492678</td>\n",
       "      <td>14.673190</td>\n",
       "      <td>0.160815</td>\n",
       "    </tr>\n",
       "    <tr>\n",
       "      <th>11</th>\n",
       "      <td>5.803808</td>\n",
       "      <td>3.794329</td>\n",
       "      <td>21.216470</td>\n",
       "      <td>0.273552</td>\n",
       "    </tr>\n",
       "    <tr>\n",
       "      <th>12</th>\n",
       "      <td>3.590371</td>\n",
       "      <td>1.429315</td>\n",
       "      <td>11.424195</td>\n",
       "      <td>0.314278</td>\n",
       "    </tr>\n",
       "    <tr>\n",
       "      <th>13</th>\n",
       "      <td>4.790839</td>\n",
       "      <td>5.291310</td>\n",
       "      <td>26.025001</td>\n",
       "      <td>0.184086</td>\n",
       "    </tr>\n",
       "    <tr>\n",
       "      <th>14</th>\n",
       "      <td>1.510330</td>\n",
       "      <td>1.700206</td>\n",
       "      <td>8.233541</td>\n",
       "      <td>0.183436</td>\n",
       "    </tr>\n",
       "  </tbody>\n",
       "</table>\n",
       "</div>"
      ],
      "text/plain": [
       "           X         Z          Y  division\n",
       "0   5.442499  5.794283  29.685784  0.183337\n",
       "1   0.468590  0.423002   3.365729  0.139224\n",
       "2   1.352092  1.036673   6.852344  0.197318\n",
       "3   5.824615  2.536311  18.357921  0.317281\n",
       "4   1.973446  5.022485  18.902389  0.104402\n",
       "5   2.237543  1.921100  11.752856  0.190383\n",
       "6   5.774384  1.201787  15.968960  0.361601\n",
       "8   1.765163  4.076577  14.195061  0.124350\n",
       "9   2.359670  3.492678  14.673190  0.160815\n",
       "11  5.803808  3.794329  21.216470  0.273552\n",
       "12  3.590371  1.429315  11.424195  0.314278\n",
       "13  4.790839  5.291310  26.025001  0.184086\n",
       "14  1.510330  1.700206   8.233541  0.183436"
      ]
     },
     "execution_count": 5,
     "metadata": {},
     "output_type": "execute_result"
    }
   ],
   "source": [
    "df['division'] = df['X'] / df['Y']\n",
    "df = df[df['division'] > 0.1]\n",
    "df"
   ]
  },
  {
   "cell_type": "code",
   "execution_count": 6,
   "metadata": {},
   "outputs": [
    {
     "data": {
      "text/plain": [
       "0.2103125167803212"
      ]
     },
     "execution_count": 6,
     "metadata": {},
     "output_type": "execute_result"
    }
   ],
   "source": [
    "np.mean(df['division'])"
   ]
  },
  {
   "cell_type": "code",
   "execution_count": 7,
   "metadata": {},
   "outputs": [
    {
     "data": {
      "text/plain": [
       "0.10440192560448883"
      ]
     },
     "execution_count": 7,
     "metadata": {},
     "output_type": "execute_result"
    }
   ],
   "source": [
    "min(df['division'])"
   ]
  },
  {
   "cell_type": "code",
   "execution_count": 8,
   "metadata": {},
   "outputs": [
    {
     "data": {
      "text/plain": [
       "0.10440192560448883"
      ]
     },
     "execution_count": 8,
     "metadata": {},
     "output_type": "execute_result"
    }
   ],
   "source": [
    "df['division'].min()"
   ]
  },
  {
   "cell_type": "code",
   "execution_count": 9,
   "metadata": {},
   "outputs": [
    {
     "data": {
      "text/plain": [
       "0.08059791894527331"
      ]
     },
     "execution_count": 9,
     "metadata": {},
     "output_type": "execute_result"
    }
   ],
   "source": [
    "df['division'].std()"
   ]
  },
  {
   "cell_type": "code",
   "execution_count": 10,
   "metadata": {},
   "outputs": [
    {
     "data": {
      "text/plain": [
       "0.006496024538308846"
      ]
     },
     "execution_count": 10,
     "metadata": {},
     "output_type": "execute_result"
    }
   ],
   "source": [
    "df['division'].var()"
   ]
  },
  {
   "cell_type": "code",
   "execution_count": 11,
   "metadata": {},
   "outputs": [
    {
     "name": "stdout",
     "output_type": "stream",
     "text": [
      "Correlation coefficient: 0.7555511287802886\n"
     ]
    }
   ],
   "source": [
    "correlation, _ = pearsonr(df['X'], df['Y'])\n",
    "print(f\"Correlation coefficient: {correlation}\")"
   ]
  },
  {
   "cell_type": "code",
   "execution_count": 12,
   "metadata": {},
   "outputs": [
    {
     "name": "stdout",
     "output_type": "stream",
     "text": [
      "                            OLS Regression Results                            \n",
      "==============================================================================\n",
      "Dep. Variable:                      Y   R-squared:                       0.571\n",
      "Model:                            OLS   Adj. R-squared:                  0.532\n",
      "Method:                 Least Squares   F-statistic:                     14.63\n",
      "Date:                Wed, 06 Dec 2023   Prob (F-statistic):            0.00282\n",
      "Time:                        09:49:38   Log-Likelihood:                -38.596\n",
      "No. Observations:                  13   AIC:                             81.19\n",
      "Df Residuals:                      11   BIC:                             82.32\n",
      "Df Model:                           1                                         \n",
      "Covariance Type:            nonrobust                                         \n",
      "==============================================================================\n",
      "                 coef    std err          t      P>|t|      [0.025      0.975]\n",
      "------------------------------------------------------------------------------\n",
      "const          5.9856      2.850      2.101      0.060      -0.286      12.258\n",
      "X              2.8639      0.749      3.825      0.003       1.216       4.512\n",
      "==============================================================================\n",
      "Omnibus:                        1.878   Durbin-Watson:                   2.404\n",
      "Prob(Omnibus):                  0.391   Jarque-Bera (JB):                1.172\n",
      "Skew:                           0.465   Prob(JB):                        0.557\n",
      "Kurtosis:                       1.860   Cond. No.                         8.04\n",
      "==============================================================================\n",
      "\n",
      "Notes:\n",
      "[1] Standard Errors assume that the covariance matrix of the errors is correctly specified.\n"
     ]
    },
    {
     "name": "stderr",
     "output_type": "stream",
     "text": [
      "C:\\Users\\Steven\\AppData\\Local\\Packages\\PythonSoftwareFoundation.Python.3.10_qbz5n2kfra8p0\\LocalCache\\local-packages\\Python310\\site-packages\\scipy\\stats\\_stats_py.py:1806: UserWarning: kurtosistest only valid for n>=20 ... continuing anyway, n=13\n",
      "  warnings.warn(\"kurtosistest only valid for n>=20 ... continuing \"\n"
     ]
    }
   ],
   "source": [
    "# Regression Analysis\n",
    "X = sm.add_constant(df['X'])  # adding a constant\n",
    "model = sm.OLS(df['Y'], X).fit()\n",
    "print(model.summary())"
   ]
  },
  {
   "cell_type": "markdown",
   "metadata": {},
   "source": [
    "Examine assumptions"
   ]
  },
  {
   "cell_type": "markdown",
   "metadata": {},
   "source": [
    "Linearity:"
   ]
  },
  {
   "cell_type": "code",
   "execution_count": 13,
   "metadata": {},
   "outputs": [
    {
     "data": {
      "text/plain": [
       "13"
      ]
     },
     "execution_count": 13,
     "metadata": {},
     "output_type": "execute_result"
    }
   ],
   "source": [
    "len(df['Y'])"
   ]
  },
  {
   "cell_type": "code",
   "execution_count": 14,
   "metadata": {},
   "outputs": [
    {
     "data": {
      "text/plain": [
       "13"
      ]
     },
     "execution_count": 14,
     "metadata": {},
     "output_type": "execute_result"
    }
   ],
   "source": [
    "len(X)"
   ]
  },
  {
   "cell_type": "markdown",
   "metadata": {},
   "source": [
    "Linearity Assumption:"
   ]
  },
  {
   "cell_type": "markdown",
   "metadata": {},
   "source": [
    "If the data points roughly align along a straight line, this suggests a linear relationship between the predictor(s) and the outcome variable. "
   ]
  },
  {
   "cell_type": "code",
   "execution_count": 15,
   "metadata": {},
   "outputs": [
    {
     "data": {
      "image/png": "[encoded data removed]",
      "text/plain": [
       "<Figure size 640x480 with 1 Axes>"
      ]
     },
     "metadata": {},
     "output_type": "display_data"
    }
   ],
   "source": [
    "predictions = model.predict(X)\n",
    "plt.scatter(df['X'], df['Y'], label='Observed')\n",
    "plt.scatter(df['X'], predictions, label='Predicted')\n",
    "plt.xlabel(\"Observed\")\n",
    "plt.ylabel(\"Predicted\")\n",
    "plt.title(\"Linearity Check\")\n",
    "plt.legend()\n",
    "plt.show()"
   ]
  },
  {
   "cell_type": "markdown",
   "metadata": {},
   "source": [
    "Independence of Errors:"
   ]
  },
  {
   "cell_type": "markdown",
   "metadata": {},
   "source": [
    "If the errors are independent, would expect to see no systematic patterns or trends in the residuals; they should appear random around zero."
   ]
  },
  {
   "cell_type": "code",
   "execution_count": 16,
   "metadata": {},
   "outputs": [
    {
     "data": {
      "image/png": "[encoded data removed]",
      "text/plain": [
       "<Figure size 640x480 with 1 Axes>"
      ]
     },
     "metadata": {},
     "output_type": "display_data"
    }
   ],
   "source": [
    "residuals = model.resid\n",
    "plt.plot(residuals)\n",
    "plt.xlabel(\"Index\")\n",
    "plt.ylabel(\"Residuals\")\n",
    "plt.title(\"Independence of Errors Check\")\n",
    "plt.show()"
   ]
  },
  {
   "cell_type": "markdown",
   "metadata": {},
   "source": [
    "If DW statistic is close to 2, it suggests no significant autocorrelation.  \n",
    "Autocorrelation occurs when the residuals are correlated with each other, meaning that the error terms at different points in the dataset are not independent.  \n",
    "Autocorrelation violates the assumption of independence of errors.  "
   ]
  },
  {
   "cell_type": "code",
   "execution_count": 17,
   "metadata": {},
   "outputs": [
    {
     "name": "stdout",
     "output_type": "stream",
     "text": [
      "Durbin-Watson Statistic: 2.40364299799707\n"
     ]
    }
   ],
   "source": [
    "from statsmodels.stats.stattools import durbin_watson\n",
    "\n",
    "dw_statistic = durbin_watson(model.resid)\n",
    "print(f\"Durbin-Watson Statistic: {dw_statistic}\")"
   ]
  },
  {
   "cell_type": "markdown",
   "metadata": {},
   "source": [
    "Homoscedasticity:"
   ]
  },
  {
   "cell_type": "markdown",
   "metadata": {},
   "source": [
    "The variance of the errors should be constant across all levels of the independent variables. In other words, the spread of residuals should be roughly the same for all predicted values."
   ]
  },
  {
   "cell_type": "code",
   "execution_count": 18,
   "metadata": {},
   "outputs": [
    {
     "data": {
      "image/png": "[encoded data removed]",
      "text/plain": [
       "<Figure size 640x480 with 1 Axes>"
      ]
     },
     "metadata": {},
     "output_type": "display_data"
    }
   ],
   "source": [
    "# residuals = df['y'] - predictions\n",
    "plt.scatter(predictions, residuals)\n",
    "plt.axhline(y=0, color='r', linestyle='--')\n",
    "plt.show()"
   ]
  },
  {
   "cell_type": "markdown",
   "metadata": {},
   "source": [
    "Normality of Residuals:"
   ]
  },
  {
   "cell_type": "markdown",
   "metadata": {},
   "source": [
    "How well the points (blue dots) fit the red line."
   ]
  },
  {
   "cell_type": "markdown",
   "metadata": {},
   "source": [
    "Most of the points in the middle section of the plot follow the red line closely, suggesting that the central part of the data is normally distributed. The divergence of the points at the ends (the tails) indicates that the distribution of the data has heavier tails than the normal distribution. This means there are more extreme values (outliers) than would be expected in a normal distribution."
   ]
  },
  {
   "cell_type": "markdown",
   "metadata": {},
   "source": [
    "However, the presence of outliers or heavy tails could influence statistical tests that assume normality."
   ]
  },
  {
   "cell_type": "code",
   "execution_count": 19,
   "metadata": {},
   "outputs": [
    {
     "data": {
      "image/png": "[encoded data removed]",
      "text/plain": [
       "<Figure size 640x480 with 1 Axes>"
      ]
     },
     "metadata": {},
     "output_type": "display_data"
    }
   ],
   "source": [
    "sm.qqplot(residuals, line='s')\n",
    "plt.title('Normality Assumption Check (Q-Q Plot)')\n",
    "plt.show()"
   ]
  },
  {
   "cell_type": "code",
   "execution_count": 20,
   "metadata": {},
   "outputs": [
    {
     "name": "stdout",
     "output_type": "stream",
     "text": [
      "Shapiro-Wilk Test Statistic: 0.9188268184661865\n",
      "Shapiro-Wilk Test p-value: 0.24186263978481293\n"
     ]
    }
   ],
   "source": [
    "# can also perform a formal statistical test like the Shapiro-Wilk test for normality.\n",
    "from scipy.stats import shapiro\n",
    "\n",
    "shapiro_test_statistic, shapiro_p_value = shapiro(residuals)\n",
    "print(f\"Shapiro-Wilk Test Statistic: {shapiro_test_statistic}\")\n",
    "print(f\"Shapiro-Wilk Test p-value: {shapiro_p_value}\")"
   ]
  },
  {
   "cell_type": "code",
   "execution_count": 21,
   "metadata": {},
   "outputs": [
    {
     "name": "stdout",
     "output_type": "stream",
     "text": [
      "Coefficient (Slope): \n",
      " [1.87529723 2.54309571]\n",
      "Intercept: \n",
      " 1.5278179130865226\n",
      "Predicted value for 6: \n",
      " [21.59376315]\n"
     ]
    },
    {
     "name": "stderr",
     "output_type": "stream",
     "text": [
      "C:\\Users\\Steven\\AppData\\Local\\Packages\\PythonSoftwareFoundation.Python.3.10_qbz5n2kfra8p0\\LocalCache\\local-packages\\Python310\\site-packages\\sklearn\\base.py:464: UserWarning: X does not have valid feature names, but LinearRegression was fitted with feature names\n",
      "  warnings.warn(\n"
     ]
    }
   ],
   "source": [
    "# Split the data into training and testing sets\n",
    "X = df[['X', 'Z']]\n",
    "y = df['Y']\n",
    "X_train, X_test, y_train, y_test = train_test_split(X, y, test_size=0.2, random_state=42)\n",
    "\n",
    "# Create and fit a linear regression model\n",
    "model = LinearRegression()\n",
    "model.fit(X_train, y_train)\n",
    "\n",
    "# The coefficients\n",
    "print('Coefficient (Slope): \\n', model.coef_)\n",
    "print('Intercept: \\n', model.intercept_)\n",
    "\n",
    "# Example of predicting a new value\n",
    "print('Predicted value for 6: \\n', model.predict([[4.303745, 4.716749]]))\n",
    "\n",
    "# Make predictions\n",
    "y_pred = model.predict(X_test)"
   ]
  },
  {
   "cell_type": "code",
   "execution_count": 22,
   "metadata": {},
   "outputs": [
    {
     "data": {
      "text/plain": [
       "0.5763453855187424"
      ]
     },
     "execution_count": 22,
     "metadata": {},
     "output_type": "execute_result"
    }
   ],
   "source": [
    "r_squared = r2_score(y_test, y_pred) # Coefficient of Determination, R-squared value\n",
    "r_squared"
   ]
  },
  {
   "cell_type": "code",
   "execution_count": 23,
   "metadata": {},
   "outputs": [
    {
     "data": {
      "text/plain": [
       "2.0391439266408646"
      ]
     },
     "execution_count": 23,
     "metadata": {},
     "output_type": "execute_result"
    }
   ],
   "source": [
    "mae = mean_absolute_error(y_test, y_pred)  # Mean Absolute Error (MAE)\n",
    "mae"
   ]
  },
  {
   "cell_type": "code",
   "execution_count": 24,
   "metadata": {},
   "outputs": [
    {
     "data": {
      "text/plain": [
       "5.09574578101713"
      ]
     },
     "execution_count": 24,
     "metadata": {},
     "output_type": "execute_result"
    }
   ],
   "source": [
    "mse = mean_squared_error(y_test, y_pred)  # Mean Squared Error (RMSE)\n",
    "mse"
   ]
  },
  {
   "cell_type": "markdown",
   "metadata": {},
   "source": [
    "Advantages of MSE:\n",
    "\n",
    "Sensitivity to Errors: MSE gives more weight to large errors because it squares the differences between predicted and actual values. This means that it is particularly sensitive to outliers and can penalize them more heavily. In some cases, this is desirable as it can help the model focus on reducing large errors.\n",
    "\n",
    "Disadvantages of MSE:\n",
    "\n",
    "Units of Measurement: The units of MSE are the square of the units of the dependent variable, which can make it less interpretable. For example, if you're predicting house prices in dollars, MSE will be in square dollars, which doesn't have a direct interpretation.\n",
    "\n",
    "Sensitivity to Outliers: While the sensitivity to outliers can be an advantage in some cases, it can also be a disadvantage. Outliers can have a disproportionate impact on MSE, and if your dataset contains many outliers, it might not provide a representative measure of overall model performance.\n",
    "\n",
    "\n",
    "Advantages of MAE:\n",
    "\n",
    "Robustness to Outliers: MAE is less sensitive to outliers compared to MSE because it doesn't square the errors. This makes it a more robust metric when your dataset contains significant outliers.\n",
    "\n",
    "Interpretability: MAE has a more straightforward interpretation because it gives the average absolute error in the same units as the dependent variable. This makes it easier to explain to non-technical stakeholders.\n",
    "\n",
    "Disadvantages of MAE:\n",
    "\n",
    "Less Emphasis on Large Errors: MAE treats all errors, whether large or small, with equal weight. In cases where you want to focus more on reducing large errors, this may not be the most appropriate metric.\n",
    "\n",
    "Less Information on Outliers: While MAE is less sensitive to outliers, it provides less information about the distribution of errors compared to MSE. This might be a disadvantage if you need to understand the nature of errors in your model."
   ]
  },
  {
   "cell_type": "code",
   "execution_count": 25,
   "metadata": {},
   "outputs": [
    {
     "data": {
      "text/plain": [
       "2.2573758617069357"
      ]
     },
     "execution_count": 25,
     "metadata": {},
     "output_type": "execute_result"
    }
   ],
   "source": [
    "rmse = np.sqrt(mse)  # Root Mean Squared Error (RMSE)\n",
    "rmse"
   ]
  },
  {
   "cell_type": "code",
   "execution_count": 26,
   "metadata": {},
   "outputs": [
    {
     "data": {
      "text/plain": [
       "13    2.056628\n",
       "11   -0.844557\n",
       "0     3.216246\n",
       "Name: Y, dtype: float64"
      ]
     },
     "execution_count": 26,
     "metadata": {},
     "output_type": "execute_result"
    }
   ],
   "source": [
    "residuals = y_test - y_pred\n",
    "residuals"
   ]
  },
  {
   "cell_type": "code",
   "execution_count": 27,
   "metadata": {},
   "outputs": [
    {
     "data": {
      "text/plain": [
       "2.0120451896613916"
      ]
     },
     "execution_count": 27,
     "metadata": {},
     "output_type": "execute_result"
    }
   ],
   "source": [
    "scores = cross_val_score(model, X, y, cv=5, scoring='neg_mean_squared_error')\n",
    "mse_cv = -scores.mean()  # Average (Meab Squared Error) MSE across cross-validation folds, evaluate its generalization ability and assess its stability.\n",
    "mse_cv"
   ]
  }
 ],
 "metadata": {
  "kernelspec": {
   "display_name": "Python 3",
   "language": "python",
   "name": "python3"
  },
  "language_info": {
   "codemirror_mode": {
    "name": "ipython",
    "version": 3
   },
   "file_extension": ".py",
   "mimetype": "text/x-python",
   "name": "python",
   "nbconvert_exporter": "python",
   "pygments_lexer": "ipython3",
   "version": "3.10.11"
  }
 },
 "nbformat": 4,
 "nbformat_minor": 2
}
