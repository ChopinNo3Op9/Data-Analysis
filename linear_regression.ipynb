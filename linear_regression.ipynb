{
 "cells": [
  {
   "cell_type": "code",
   "execution_count": 1,
   "metadata": {},
   "outputs": [],
   "source": [
    "import pandas as pd\n",
    "import numpy as np\n",
    "\n",
    "from scipy.stats import pearsonr\n",
    "import statsmodels.api as sm\n",
    "\n",
    "from sklearn.linear_model import LinearRegression\n",
    "from sklearn.model_selection import train_test_split\n",
    "from sklearn.metrics import mean_squared_error\n",
    "from sklearn.metrics import mean_absolute_error\n",
    "from sklearn.model_selection import cross_val_score"
   ]
  },
  {
   "cell_type": "code",
   "execution_count": 2,
   "metadata": {},
   "outputs": [],
   "source": [
    "num_new_points = 15\n",
    "X = np.random.uniform(0, 6, num_new_points).reshape(-1, 1)  # Generate random X values between 0 and 6\n",
    "Z = np.random.uniform(0, 6, num_new_points).reshape(-1, 1)  # Generate random Z values between 0 and 6\n",
    "noise = np.random.normal(0, 1, num_new_points)  # Generate random noise\n",
    "Y = 2 * X.flatten() + 3 * Z.flatten() + noise\n",
    "\n",
    "df = pd.DataFrame({'X': X.flatten(), 'Z': Z.flatten(), 'Y': Y})"
   ]
  },
  {
   "cell_type": "code",
   "execution_count": 3,
   "metadata": {},
   "outputs": [
    {
     "data": {
      "text/html": [
       "<div>\n",
       "<style scoped>\n",
       "    .dataframe tbody tr th:only-of-type {\n",
       "        vertical-align: middle;\n",
       "    }\n",
       "\n",
       "    .dataframe tbody tr th {\n",
       "        vertical-align: top;\n",
       "    }\n",
       "\n",
       "    .dataframe thead th {\n",
       "        text-align: right;\n",
       "    }\n",
       "</style>\n",
       "<table border=\"1\" class=\"dataframe\">\n",
       "  <thead>\n",
       "    <tr style=\"text-align: right;\">\n",
       "      <th></th>\n",
       "      <th>X</th>\n",
       "      <th>Z</th>\n",
       "      <th>Y</th>\n",
       "    </tr>\n",
       "  </thead>\n",
       "  <tbody>\n",
       "    <tr>\n",
       "      <th>0</th>\n",
       "      <td>4.553294</td>\n",
       "      <td>0.621908</td>\n",
       "      <td>9.786513</td>\n",
       "    </tr>\n",
       "    <tr>\n",
       "      <th>1</th>\n",
       "      <td>5.009172</td>\n",
       "      <td>2.267599</td>\n",
       "      <td>17.993086</td>\n",
       "    </tr>\n",
       "    <tr>\n",
       "      <th>2</th>\n",
       "      <td>1.548428</td>\n",
       "      <td>3.478965</td>\n",
       "      <td>12.861615</td>\n",
       "    </tr>\n",
       "    <tr>\n",
       "      <th>3</th>\n",
       "      <td>1.232845</td>\n",
       "      <td>5.215138</td>\n",
       "      <td>18.900885</td>\n",
       "    </tr>\n",
       "    <tr>\n",
       "      <th>4</th>\n",
       "      <td>3.838659</td>\n",
       "      <td>5.644876</td>\n",
       "      <td>23.435682</td>\n",
       "    </tr>\n",
       "    <tr>\n",
       "      <th>5</th>\n",
       "      <td>0.940910</td>\n",
       "      <td>3.281106</td>\n",
       "      <td>12.148624</td>\n",
       "    </tr>\n",
       "    <tr>\n",
       "      <th>6</th>\n",
       "      <td>1.310662</td>\n",
       "      <td>2.781287</td>\n",
       "      <td>11.632071</td>\n",
       "    </tr>\n",
       "    <tr>\n",
       "      <th>7</th>\n",
       "      <td>5.015414</td>\n",
       "      <td>0.080522</td>\n",
       "      <td>10.130221</td>\n",
       "    </tr>\n",
       "    <tr>\n",
       "      <th>8</th>\n",
       "      <td>3.919257</td>\n",
       "      <td>4.443335</td>\n",
       "      <td>21.647890</td>\n",
       "    </tr>\n",
       "    <tr>\n",
       "      <th>9</th>\n",
       "      <td>0.916384</td>\n",
       "      <td>1.273522</td>\n",
       "      <td>6.623397</td>\n",
       "    </tr>\n",
       "    <tr>\n",
       "      <th>10</th>\n",
       "      <td>4.038059</td>\n",
       "      <td>1.221254</td>\n",
       "      <td>11.573477</td>\n",
       "    </tr>\n",
       "    <tr>\n",
       "      <th>11</th>\n",
       "      <td>3.095342</td>\n",
       "      <td>3.372828</td>\n",
       "      <td>15.769964</td>\n",
       "    </tr>\n",
       "    <tr>\n",
       "      <th>12</th>\n",
       "      <td>0.206906</td>\n",
       "      <td>5.981115</td>\n",
       "      <td>16.873199</td>\n",
       "    </tr>\n",
       "    <tr>\n",
       "      <th>13</th>\n",
       "      <td>4.249275</td>\n",
       "      <td>3.844827</td>\n",
       "      <td>20.275615</td>\n",
       "    </tr>\n",
       "    <tr>\n",
       "      <th>14</th>\n",
       "      <td>4.759811</td>\n",
       "      <td>0.843954</td>\n",
       "      <td>10.654699</td>\n",
       "    </tr>\n",
       "  </tbody>\n",
       "</table>\n",
       "</div>"
      ],
      "text/plain": [
       "           X         Z          Y\n",
       "0   4.553294  0.621908   9.786513\n",
       "1   5.009172  2.267599  17.993086\n",
       "2   1.548428  3.478965  12.861615\n",
       "3   1.232845  5.215138  18.900885\n",
       "4   3.838659  5.644876  23.435682\n",
       "5   0.940910  3.281106  12.148624\n",
       "6   1.310662  2.781287  11.632071\n",
       "7   5.015414  0.080522  10.130221\n",
       "8   3.919257  4.443335  21.647890\n",
       "9   0.916384  1.273522   6.623397\n",
       "10  4.038059  1.221254  11.573477\n",
       "11  3.095342  3.372828  15.769964\n",
       "12  0.206906  5.981115  16.873199\n",
       "13  4.249275  3.844827  20.275615\n",
       "14  4.759811  0.843954  10.654699"
      ]
     },
     "execution_count": 3,
     "metadata": {},
     "output_type": "execute_result"
    }
   ],
   "source": [
    "df"
   ]
  },
  {
   "cell_type": "code",
   "execution_count": 4,
   "metadata": {},
   "outputs": [
    {
     "data": {
      "text/html": [
       "<div>\n",
       "<style scoped>\n",
       "    .dataframe tbody tr th:only-of-type {\n",
       "        vertical-align: middle;\n",
       "    }\n",
       "\n",
       "    .dataframe tbody tr th {\n",
       "        vertical-align: top;\n",
       "    }\n",
       "\n",
       "    .dataframe thead th {\n",
       "        text-align: right;\n",
       "    }\n",
       "</style>\n",
       "<table border=\"1\" class=\"dataframe\">\n",
       "  <thead>\n",
       "    <tr style=\"text-align: right;\">\n",
       "      <th></th>\n",
       "      <th>X</th>\n",
       "      <th>Z</th>\n",
       "      <th>Y</th>\n",
       "      <th>division</th>\n",
       "    </tr>\n",
       "  </thead>\n",
       "  <tbody>\n",
       "    <tr>\n",
       "      <th>0</th>\n",
       "      <td>4.553294</td>\n",
       "      <td>0.621908</td>\n",
       "      <td>9.786513</td>\n",
       "      <td>0.465262</td>\n",
       "    </tr>\n",
       "    <tr>\n",
       "      <th>1</th>\n",
       "      <td>5.009172</td>\n",
       "      <td>2.267599</td>\n",
       "      <td>17.993086</td>\n",
       "      <td>0.278394</td>\n",
       "    </tr>\n",
       "    <tr>\n",
       "      <th>2</th>\n",
       "      <td>1.548428</td>\n",
       "      <td>3.478965</td>\n",
       "      <td>12.861615</td>\n",
       "      <td>0.120391</td>\n",
       "    </tr>\n",
       "    <tr>\n",
       "      <th>4</th>\n",
       "      <td>3.838659</td>\n",
       "      <td>5.644876</td>\n",
       "      <td>23.435682</td>\n",
       "      <td>0.163796</td>\n",
       "    </tr>\n",
       "    <tr>\n",
       "      <th>6</th>\n",
       "      <td>1.310662</td>\n",
       "      <td>2.781287</td>\n",
       "      <td>11.632071</td>\n",
       "      <td>0.112677</td>\n",
       "    </tr>\n",
       "    <tr>\n",
       "      <th>7</th>\n",
       "      <td>5.015414</td>\n",
       "      <td>0.080522</td>\n",
       "      <td>10.130221</td>\n",
       "      <td>0.495094</td>\n",
       "    </tr>\n",
       "    <tr>\n",
       "      <th>8</th>\n",
       "      <td>3.919257</td>\n",
       "      <td>4.443335</td>\n",
       "      <td>21.647890</td>\n",
       "      <td>0.181046</td>\n",
       "    </tr>\n",
       "    <tr>\n",
       "      <th>9</th>\n",
       "      <td>0.916384</td>\n",
       "      <td>1.273522</td>\n",
       "      <td>6.623397</td>\n",
       "      <td>0.138356</td>\n",
       "    </tr>\n",
       "    <tr>\n",
       "      <th>10</th>\n",
       "      <td>4.038059</td>\n",
       "      <td>1.221254</td>\n",
       "      <td>11.573477</td>\n",
       "      <td>0.348906</td>\n",
       "    </tr>\n",
       "    <tr>\n",
       "      <th>11</th>\n",
       "      <td>3.095342</td>\n",
       "      <td>3.372828</td>\n",
       "      <td>15.769964</td>\n",
       "      <td>0.196281</td>\n",
       "    </tr>\n",
       "    <tr>\n",
       "      <th>13</th>\n",
       "      <td>4.249275</td>\n",
       "      <td>3.844827</td>\n",
       "      <td>20.275615</td>\n",
       "      <td>0.209576</td>\n",
       "    </tr>\n",
       "    <tr>\n",
       "      <th>14</th>\n",
       "      <td>4.759811</td>\n",
       "      <td>0.843954</td>\n",
       "      <td>10.654699</td>\n",
       "      <td>0.446734</td>\n",
       "    </tr>\n",
       "  </tbody>\n",
       "</table>\n",
       "</div>"
      ],
      "text/plain": [
       "           X         Z          Y  division\n",
       "0   4.553294  0.621908   9.786513  0.465262\n",
       "1   5.009172  2.267599  17.993086  0.278394\n",
       "2   1.548428  3.478965  12.861615  0.120391\n",
       "4   3.838659  5.644876  23.435682  0.163796\n",
       "6   1.310662  2.781287  11.632071  0.112677\n",
       "7   5.015414  0.080522  10.130221  0.495094\n",
       "8   3.919257  4.443335  21.647890  0.181046\n",
       "9   0.916384  1.273522   6.623397  0.138356\n",
       "10  4.038059  1.221254  11.573477  0.348906\n",
       "11  3.095342  3.372828  15.769964  0.196281\n",
       "13  4.249275  3.844827  20.275615  0.209576\n",
       "14  4.759811  0.843954  10.654699  0.446734"
      ]
     },
     "execution_count": 4,
     "metadata": {},
     "output_type": "execute_result"
    }
   ],
   "source": [
    "df['division'] = df['X'] / df['Y']\n",
    "df = df[df['division'] > 0.1]\n",
    "df"
   ]
  },
  {
   "cell_type": "code",
   "execution_count": 5,
   "metadata": {},
   "outputs": [
    {
     "data": {
      "text/plain": [
       "0.2630426515701125"
      ]
     },
     "execution_count": 5,
     "metadata": {},
     "output_type": "execute_result"
    }
   ],
   "source": [
    "np.mean(df['division'])"
   ]
  },
  {
   "cell_type": "code",
   "execution_count": 6,
   "metadata": {},
   "outputs": [
    {
     "data": {
      "text/plain": [
       "0.11267661976305744"
      ]
     },
     "execution_count": 6,
     "metadata": {},
     "output_type": "execute_result"
    }
   ],
   "source": [
    "min(df['division'])"
   ]
  },
  {
   "cell_type": "code",
   "execution_count": 7,
   "metadata": {},
   "outputs": [
    {
     "name": "stdout",
     "output_type": "stream",
     "text": [
      "Correlation coefficient: 0.3108467296692851\n"
     ]
    }
   ],
   "source": [
    "correlation, _ = pearsonr(df['X'], df['Y'])\n",
    "print(f\"Correlation coefficient: {correlation}\")"
   ]
  },
  {
   "cell_type": "code",
   "execution_count": 8,
   "metadata": {},
   "outputs": [
    {
     "name": "stdout",
     "output_type": "stream",
     "text": [
      "                            OLS Regression Results                            \n",
      "==============================================================================\n",
      "Dep. Variable:                      Y   R-squared:                       0.097\n",
      "Model:                            OLS   Adj. R-squared:                  0.006\n",
      "Method:                 Least Squares   F-statistic:                     1.070\n",
      "Date:                Sat, 02 Dec 2023   Prob (F-statistic):              0.325\n",
      "Time:                        23:04:15   Log-Likelihood:                -36.033\n",
      "No. Observations:                  12   AIC:                             76.07\n",
      "Df Residuals:                      10   BIC:                             77.04\n",
      "Df Model:                           1                                         \n",
      "Covariance Type:            nonrobust                                         \n",
      "==============================================================================\n",
      "                 coef    std err          t      P>|t|      [0.025      0.975]\n",
      "------------------------------------------------------------------------------\n",
      "const         10.3841      4.147      2.504      0.031       1.145      19.623\n",
      "X              1.1307      1.093      1.034      0.325      -1.305       3.567\n",
      "==============================================================================\n",
      "Omnibus:                        1.502   Durbin-Watson:                   2.381\n",
      "Prob(Omnibus):                  0.472   Jarque-Bera (JB):                0.906\n",
      "Skew:                           0.321   Prob(JB):                        0.636\n",
      "Kurtosis:                       1.817   Cond. No.                         10.8\n",
      "==============================================================================\n",
      "\n",
      "Notes:\n",
      "[1] Standard Errors assume that the covariance matrix of the errors is correctly specified.\n"
     ]
    },
    {
     "name": "stderr",
     "output_type": "stream",
     "text": [
      "C:\\Users\\Steven\\AppData\\Local\\Packages\\PythonSoftwareFoundation.Python.3.10_qbz5n2kfra8p0\\LocalCache\\local-packages\\Python310\\site-packages\\scipy\\stats\\_stats_py.py:1806: UserWarning: kurtosistest only valid for n>=20 ... continuing anyway, n=12\n",
      "  warnings.warn(\"kurtosistest only valid for n>=20 ... continuing \"\n"
     ]
    }
   ],
   "source": [
    "# Regression Analysis\n",
    "X = sm.add_constant(df['X'])  # adding a constant\n",
    "model = sm.OLS(df['Y'], X).fit()\n",
    "print(model.summary())"
   ]
  },
  {
   "cell_type": "code",
   "execution_count": 9,
   "metadata": {},
   "outputs": [
    {
     "name": "stdout",
     "output_type": "stream",
     "text": [
      "Coefficient (Slope): \n",
      " [1.83542252 2.90342616]\n",
      "Intercept: \n",
      " 0.7620470931657763\n",
      "Predicted value for 6: \n",
      " [22.35597002]\n"
     ]
    },
    {
     "name": "stderr",
     "output_type": "stream",
     "text": [
      "C:\\Users\\Steven\\AppData\\Local\\Packages\\PythonSoftwareFoundation.Python.3.10_qbz5n2kfra8p0\\LocalCache\\local-packages\\Python310\\site-packages\\sklearn\\base.py:464: UserWarning: X does not have valid feature names, but LinearRegression was fitted with feature names\n",
      "  warnings.warn(\n"
     ]
    }
   ],
   "source": [
    "# Split the data into training and testing sets\n",
    "X = df[['X', 'Z']]\n",
    "y = df['Y']\n",
    "X_train, X_test, y_train, y_test = train_test_split(X, y, test_size=0.2, random_state=42)\n",
    "\n",
    "# Create and fit a linear regression model\n",
    "model = LinearRegression()\n",
    "model.fit(X_train, y_train)\n",
    "\n",
    "# The coefficients\n",
    "print('Coefficient (Slope): \\n', model.coef_)\n",
    "print('Intercept: \\n', model.intercept_)\n",
    "\n",
    "# Example of predicting a new value\n",
    "print('Predicted value for 6: \\n', model.predict([[4.303745, 4.716749]]))\n",
    "\n",
    "# Make predictions\n",
    "y_pred = model.predict(X_test)"
   ]
  },
  {
   "cell_type": "code",
   "execution_count": 10,
   "metadata": {},
   "outputs": [
    {
     "data": {
      "text/plain": [
       "0.7185655847663828"
      ]
     },
     "execution_count": 10,
     "metadata": {},
     "output_type": "execute_result"
    }
   ],
   "source": [
    "mae = mean_absolute_error(y_test, y_pred)  # Mean Absolute Error (MAE)\n",
    "mae"
   ]
  },
  {
   "cell_type": "code",
   "execution_count": 11,
   "metadata": {},
   "outputs": [
    {
     "data": {
      "text/plain": [
       "0.6056800145274553"
      ]
     },
     "execution_count": 11,
     "metadata": {},
     "output_type": "execute_result"
    }
   ],
   "source": [
    "mse = mean_squared_error(y_test, y_pred)  # Mean Squared Error (RMSE)\n",
    "mse"
   ]
  },
  {
   "cell_type": "code",
   "execution_count": 12,
   "metadata": {},
   "outputs": [
    {
     "data": {
      "text/plain": [
       "0.778254466435918"
      ]
     },
     "execution_count": 12,
     "metadata": {},
     "output_type": "execute_result"
    }
   ],
   "source": [
    "rmse = np.sqrt(mse)  # Root Mean Squared Error (RMSE)\n",
    "rmse"
   ]
  },
  {
   "cell_type": "code",
   "execution_count": 13,
   "metadata": {},
   "outputs": [
    {
     "data": {
      "text/plain": [
       "13    0.551181\n",
       "11   -0.466100\n",
       "0    -1.138416\n",
       "Name: Y, dtype: float64"
      ]
     },
     "execution_count": 13,
     "metadata": {},
     "output_type": "execute_result"
    }
   ],
   "source": [
    "residuals = y_test - y_pred\n",
    "residuals"
   ]
  },
  {
   "cell_type": "code",
   "execution_count": 14,
   "metadata": {},
   "outputs": [
    {
     "data": {
      "text/plain": [
       "0.9940335549655067"
      ]
     },
     "execution_count": 14,
     "metadata": {},
     "output_type": "execute_result"
    }
   ],
   "source": [
    "scores = cross_val_score(model, X, y, cv=5, scoring='neg_mean_squared_error')\n",
    "mse_cv = -scores.mean()  # Average (Meab Squared Error) MSE across cross-validation folds, evaluate its generalization ability and assess its stability.\n",
    "mse_cv"
   ]
  }
 ],
 "metadata": {
  "kernelspec": {
   "display_name": "Python 3",
   "language": "python",
   "name": "python3"
  },
  "language_info": {
   "codemirror_mode": {
    "name": "ipython",
    "version": 3
   },
   "file_extension": ".py",
   "mimetype": "text/x-python",
   "name": "python",
   "nbconvert_exporter": "python",
   "pygments_lexer": "ipython3",
   "version": "3.10.11"
  }
 },
 "nbformat": 4,
 "nbformat_minor": 2
}
