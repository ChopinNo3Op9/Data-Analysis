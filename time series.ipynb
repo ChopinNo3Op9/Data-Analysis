{
 "cells": [
  {
   "cell_type": "code",
   "execution_count": null,
   "metadata": {},
   "outputs": [],
   "source": [
    "import pandas as pd\n",
    "import matplotlib.pyplot as plt\n",
    "from statsmodels.tsa.stattools import adfuller\n",
    "from statsmodels.tsa.seasonal import seasonal_decompose\n",
    "from statsmodels.tsa.arima_model import ARIMA\n",
    "from sklearn.metrics import mean_squared_error"
   ]
  },
  {
   "cell_type": "code",
   "execution_count": null,
   "metadata": {},
   "outputs": [],
   "source": [
    "# Load the dataset\n",
    "data = pd.read_csv('sales_timeseries.csv')\n",
    "\n",
    "# Data preparation\n",
    "data['Date'] = pd.to_datetime(data['Date'])\n",
    "data.set_index('Date', inplace=True)\n",
    "\n",
    "# Time Series Visualization\n",
    "data['TotalSales'].plot(title='Daily Total Sales', figsize=(12, 6))\n",
    "\n",
    "# Moving Average\n",
    "data['MA_7'] = data['TotalSales'].rolling(window=7).mean()\n",
    "data[['TotalSales', 'MA_7']].plot(title='7-day Moving Average', figsize=(12, 6))\n",
    "\n",
    "# Seasonal Decomposition\n",
    "result = seasonal_decompose(data['TotalSales'], model='additive', freq=365)\n",
    "result.plot()\n",
    "plt.show()\n",
    "\n",
    "# Statistical Test for Stationarity\n",
    "result_adf = adfuller(data['TotalSales'])\n",
    "print('ADF Statistic: %f' % result_adf[0])\n",
    "print('p-value: %f' % result_adf[1])\n",
    "\n",
    "# ARIMA Forecasting\n",
    "model = ARIMA(data['TotalSales'], order=(5,1,0))\n",
    "model_fit = model.fit(disp=0)\n",
    "forecast = model_fit.forecast(steps=30)[0]\n",
    "\n",
    "# Plot Forecast\n",
    "plt.plot(forecast)\n",
    "plt.title('Sales Forecast')\n",
    "plt.show()\n",
    "\n",
    "# The code for calculating the forecast accuracy is omitted for brevity\n"
   ]
  }
 ],
 "metadata": {
  "language_info": {
   "name": "python"
  }
 },
 "nbformat": 4,
 "nbformat_minor": 2
}
